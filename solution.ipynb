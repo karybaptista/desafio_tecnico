{
 "cells": [
  {
   "cell_type": "markdown",
   "id": "4981f3b0",
   "metadata": {},
   "source": [
    "# Desafío técnico LATAM"
   ]
  },
  {
   "cell_type": "code",
   "execution_count": 1,
   "id": "fd6544a5",
   "metadata": {},
   "outputs": [
    {
     "name": "stdout",
     "output_type": "stream",
     "text": [
      "Requirement already satisfied: imbalanced-learn in c:\\users\\kary\\anaconda3\\lib\\site-packages (0.11.0)\n",
      "Requirement already satisfied: numpy>=1.17.3 in c:\\users\\kary\\anaconda3\\lib\\site-packages (from imbalanced-learn) (1.20.3)\n",
      "Requirement already satisfied: joblib>=1.1.1 in c:\\users\\kary\\anaconda3\\lib\\site-packages (from imbalanced-learn) (1.3.2)\n",
      "Requirement already satisfied: threadpoolctl>=2.0.0 in c:\\users\\kary\\anaconda3\\lib\\site-packages (from imbalanced-learn) (2.2.0)\n",
      "Requirement already satisfied: scikit-learn>=1.0.2 in c:\\users\\kary\\anaconda3\\lib\\site-packages (from imbalanced-learn) (1.3.0)\n",
      "Requirement already satisfied: scipy>=1.5.0 in c:\\users\\kary\\anaconda3\\lib\\site-packages (from imbalanced-learn) (1.7.1)\n",
      "Note: you may need to restart the kernel to use updated packages.\n"
     ]
    }
   ],
   "source": [
    "pip install imbalanced-learn"
   ]
  },
  {
   "cell_type": "code",
   "execution_count": 2,
   "id": "d26a72f6",
   "metadata": {},
   "outputs": [
    {
     "name": "stdout",
     "output_type": "stream",
     "text": [
      "Requirement already satisfied: lightgbm in c:\\users\\kary\\anaconda3\\lib\\site-packages (4.0.0)\n",
      "Requirement already satisfied: numpy in c:\\users\\kary\\anaconda3\\lib\\site-packages (from lightgbm) (1.20.3)\n",
      "Requirement already satisfied: scipy in c:\\users\\kary\\anaconda3\\lib\\site-packages (from lightgbm) (1.7.1)\n",
      "Note: you may need to restart the kernel to use updated packages.\n"
     ]
    }
   ],
   "source": [
    "pip install lightgbm"
   ]
  },
  {
   "cell_type": "code",
   "execution_count": 3,
   "id": "69885a18",
   "metadata": {},
   "outputs": [],
   "source": [
    "import pandas as pd\n",
    "from sklearn.model_selection import cross_val_score, train_test_split, StratifiedKFold\n",
    "from sklearn.metrics import mean_squared_error\n",
    "from scipy.stats import chi2_contingency\n",
    "import matplotlib.pyplot as plt\n",
    "import seaborn as sns\n",
    "import warnings\n",
    "from imblearn.over_sampling import SMOTE\n",
    "from sklearn.metrics import confusion_matrix, ConfusionMatrixDisplay\n",
    "from sklearn.ensemble import RandomForestClassifier\n",
    "from sklearn.metrics import classification_report\n",
    "from sklearn.preprocessing import StandardScaler\n",
    "from sklearn.linear_model import LogisticRegression\n",
    "from sklearn.svm import SVC\n",
    "import lightgbm as lgb\n",
    "from sklearn.tree import DecisionTreeClassifier\n",
    "\n",
    "warnings.filterwarnings('ignore')"
   ]
  },
  {
   "cell_type": "code",
   "execution_count": 4,
   "id": "a119385b",
   "metadata": {},
   "outputs": [],
   "source": [
    "df = pd.read_csv('/Users/Kary/Downloads/dataset_SCL.csv')"
   ]
  },
  {
   "cell_type": "code",
   "execution_count": 5,
   "id": "1447d11a",
   "metadata": {},
   "outputs": [
    {
     "data": {
      "text/html": [
       "<div>\n",
       "<style scoped>\n",
       "    .dataframe tbody tr th:only-of-type {\n",
       "        vertical-align: middle;\n",
       "    }\n",
       "\n",
       "    .dataframe tbody tr th {\n",
       "        vertical-align: top;\n",
       "    }\n",
       "\n",
       "    .dataframe thead th {\n",
       "        text-align: right;\n",
       "    }\n",
       "</style>\n",
       "<table border=\"1\" class=\"dataframe\">\n",
       "  <thead>\n",
       "    <tr style=\"text-align: right;\">\n",
       "      <th></th>\n",
       "      <th>Fecha-I</th>\n",
       "      <th>Vlo-I</th>\n",
       "      <th>Ori-I</th>\n",
       "      <th>Des-I</th>\n",
       "      <th>Emp-I</th>\n",
       "      <th>Fecha-O</th>\n",
       "      <th>Vlo-O</th>\n",
       "      <th>Ori-O</th>\n",
       "      <th>Des-O</th>\n",
       "      <th>Emp-O</th>\n",
       "      <th>DIA</th>\n",
       "      <th>MES</th>\n",
       "      <th>AÑO</th>\n",
       "      <th>DIANOM</th>\n",
       "      <th>TIPOVUELO</th>\n",
       "      <th>OPERA</th>\n",
       "      <th>SIGLAORI</th>\n",
       "      <th>SIGLADES</th>\n",
       "    </tr>\n",
       "  </thead>\n",
       "  <tbody>\n",
       "    <tr>\n",
       "      <th>0</th>\n",
       "      <td>2017-01-01 23:30:00</td>\n",
       "      <td>226</td>\n",
       "      <td>SCEL</td>\n",
       "      <td>KMIA</td>\n",
       "      <td>AAL</td>\n",
       "      <td>2017-01-01 23:33:00</td>\n",
       "      <td>226</td>\n",
       "      <td>SCEL</td>\n",
       "      <td>KMIA</td>\n",
       "      <td>AAL</td>\n",
       "      <td>1</td>\n",
       "      <td>1</td>\n",
       "      <td>2017</td>\n",
       "      <td>Domingo</td>\n",
       "      <td>I</td>\n",
       "      <td>American Airlines</td>\n",
       "      <td>Santiago</td>\n",
       "      <td>Miami</td>\n",
       "    </tr>\n",
       "    <tr>\n",
       "      <th>1</th>\n",
       "      <td>2017-01-02 23:30:00</td>\n",
       "      <td>226</td>\n",
       "      <td>SCEL</td>\n",
       "      <td>KMIA</td>\n",
       "      <td>AAL</td>\n",
       "      <td>2017-01-02 23:39:00</td>\n",
       "      <td>226</td>\n",
       "      <td>SCEL</td>\n",
       "      <td>KMIA</td>\n",
       "      <td>AAL</td>\n",
       "      <td>2</td>\n",
       "      <td>1</td>\n",
       "      <td>2017</td>\n",
       "      <td>Lunes</td>\n",
       "      <td>I</td>\n",
       "      <td>American Airlines</td>\n",
       "      <td>Santiago</td>\n",
       "      <td>Miami</td>\n",
       "    </tr>\n",
       "    <tr>\n",
       "      <th>2</th>\n",
       "      <td>2017-01-03 23:30:00</td>\n",
       "      <td>226</td>\n",
       "      <td>SCEL</td>\n",
       "      <td>KMIA</td>\n",
       "      <td>AAL</td>\n",
       "      <td>2017-01-03 23:39:00</td>\n",
       "      <td>226</td>\n",
       "      <td>SCEL</td>\n",
       "      <td>KMIA</td>\n",
       "      <td>AAL</td>\n",
       "      <td>3</td>\n",
       "      <td>1</td>\n",
       "      <td>2017</td>\n",
       "      <td>Martes</td>\n",
       "      <td>I</td>\n",
       "      <td>American Airlines</td>\n",
       "      <td>Santiago</td>\n",
       "      <td>Miami</td>\n",
       "    </tr>\n",
       "    <tr>\n",
       "      <th>3</th>\n",
       "      <td>2017-01-04 23:30:00</td>\n",
       "      <td>226</td>\n",
       "      <td>SCEL</td>\n",
       "      <td>KMIA</td>\n",
       "      <td>AAL</td>\n",
       "      <td>2017-01-04 23:33:00</td>\n",
       "      <td>226</td>\n",
       "      <td>SCEL</td>\n",
       "      <td>KMIA</td>\n",
       "      <td>AAL</td>\n",
       "      <td>4</td>\n",
       "      <td>1</td>\n",
       "      <td>2017</td>\n",
       "      <td>Miercoles</td>\n",
       "      <td>I</td>\n",
       "      <td>American Airlines</td>\n",
       "      <td>Santiago</td>\n",
       "      <td>Miami</td>\n",
       "    </tr>\n",
       "    <tr>\n",
       "      <th>4</th>\n",
       "      <td>2017-01-05 23:30:00</td>\n",
       "      <td>226</td>\n",
       "      <td>SCEL</td>\n",
       "      <td>KMIA</td>\n",
       "      <td>AAL</td>\n",
       "      <td>2017-01-05 23:28:00</td>\n",
       "      <td>226</td>\n",
       "      <td>SCEL</td>\n",
       "      <td>KMIA</td>\n",
       "      <td>AAL</td>\n",
       "      <td>5</td>\n",
       "      <td>1</td>\n",
       "      <td>2017</td>\n",
       "      <td>Jueves</td>\n",
       "      <td>I</td>\n",
       "      <td>American Airlines</td>\n",
       "      <td>Santiago</td>\n",
       "      <td>Miami</td>\n",
       "    </tr>\n",
       "  </tbody>\n",
       "</table>\n",
       "</div>"
      ],
      "text/plain": [
       "               Fecha-I Vlo-I Ori-I Des-I Emp-I              Fecha-O Vlo-O  \\\n",
       "0  2017-01-01 23:30:00   226  SCEL  KMIA   AAL  2017-01-01 23:33:00   226   \n",
       "1  2017-01-02 23:30:00   226  SCEL  KMIA   AAL  2017-01-02 23:39:00   226   \n",
       "2  2017-01-03 23:30:00   226  SCEL  KMIA   AAL  2017-01-03 23:39:00   226   \n",
       "3  2017-01-04 23:30:00   226  SCEL  KMIA   AAL  2017-01-04 23:33:00   226   \n",
       "4  2017-01-05 23:30:00   226  SCEL  KMIA   AAL  2017-01-05 23:28:00   226   \n",
       "\n",
       "  Ori-O Des-O Emp-O  DIA  MES   AÑO     DIANOM TIPOVUELO              OPERA  \\\n",
       "0  SCEL  KMIA   AAL    1    1  2017    Domingo         I  American Airlines   \n",
       "1  SCEL  KMIA   AAL    2    1  2017      Lunes         I  American Airlines   \n",
       "2  SCEL  KMIA   AAL    3    1  2017     Martes         I  American Airlines   \n",
       "3  SCEL  KMIA   AAL    4    1  2017  Miercoles         I  American Airlines   \n",
       "4  SCEL  KMIA   AAL    5    1  2017     Jueves         I  American Airlines   \n",
       "\n",
       "   SIGLAORI SIGLADES  \n",
       "0  Santiago    Miami  \n",
       "1  Santiago    Miami  \n",
       "2  Santiago    Miami  \n",
       "3  Santiago    Miami  \n",
       "4  Santiago    Miami  "
      ]
     },
     "execution_count": 5,
     "metadata": {},
     "output_type": "execute_result"
    }
   ],
   "source": [
    "df.head()"
   ]
  },
  {
   "cell_type": "markdown",
   "id": "e8717f93",
   "metadata": {},
   "source": [
    "## 1. Distribución de los datos"
   ]
  },
  {
   "cell_type": "markdown",
   "id": "bfd3bfb7",
   "metadata": {},
   "source": [
    "#### 1.1 Análisis"
   ]
  },
  {
   "cell_type": "markdown",
   "id": "d93ce95c",
   "metadata": {},
   "source": [
    "Prácticamente no hay valores nulos en la base de datos. "
   ]
  },
  {
   "cell_type": "code",
   "execution_count": 6,
   "id": "51a2085f",
   "metadata": {},
   "outputs": [
    {
     "name": "stdout",
     "output_type": "stream",
     "text": [
      "Tabla 1\n"
     ]
    },
    {
     "data": {
      "text/plain": [
       "Fecha-I      0\n",
       "Vlo-I        0\n",
       "Ori-I        0\n",
       "Des-I        0\n",
       "Emp-I        0\n",
       "Fecha-O      0\n",
       "Vlo-O        1\n",
       "Ori-O        0\n",
       "Des-O        0\n",
       "Emp-O        0\n",
       "DIA          0\n",
       "MES          0\n",
       "AÑO          0\n",
       "DIANOM       0\n",
       "TIPOVUELO    0\n",
       "OPERA        0\n",
       "SIGLAORI     0\n",
       "SIGLADES     0\n",
       "dtype: int64"
      ]
     },
     "execution_count": 6,
     "metadata": {},
     "output_type": "execute_result"
    }
   ],
   "source": [
    "print(\"Tabla 1\")\n",
    "df.isnull().sum()"
   ]
  },
  {
   "cell_type": "markdown",
   "id": "b71ee190",
   "metadata": {},
   "source": [
    "La **variable \"OPERA\" presenta baja variabilidad**: aproximadamente el **60% de los vuelos** son operados por Grupo LATAM, y más del 20% por Sky Airline."
   ]
  },
  {
   "cell_type": "code",
   "execution_count": 7,
   "id": "77cd5b9e",
   "metadata": {
    "scrolled": true
   },
   "outputs": [
    {
     "data": {
      "text/plain": [
       "<AxesSubplot:xlabel='OPERA', ylabel='count'>"
      ]
     },
     "execution_count": 7,
     "metadata": {},
     "output_type": "execute_result"
    },
    {
     "data": {
      "image/png": "[encoded data removed]",
      "text/plain": [
       "<Figure size 432x288 with 1 Axes>"
      ]
     },
     "metadata": {
      "needs_background": "light"
     },
     "output_type": "display_data"
    }
   ],
   "source": [
    "sns.countplot(data=df, x='OPERA')"
   ]
  },
  {
   "cell_type": "code",
   "execution_count": 8,
   "id": "ba623ab8",
   "metadata": {},
   "outputs": [
    {
     "name": "stdout",
     "output_type": "stream",
     "text": [
      "Tabla 2\n",
      "                          conteo          %\n",
      "Grupo LATAM                40892  59.953670\n",
      "Sky Airline                14298  20.962965\n",
      "Aerolineas Argentinas       1949   2.857520\n",
      "Copa Air                    1850   2.712371\n",
      "Latin American Wings        1674   2.454330\n",
      "Avianca                     1152   1.689001\n",
      "JetSmart SPA                1095   1.605431\n",
      "Gol Trans                    806   1.181714\n",
      "American Airlines            757   1.109873\n",
      "Air Canada                   565   0.828373\n",
      "Iberia                       362   0.530745\n",
      "Delta Air                    358   0.524881\n",
      "Air France                   358   0.524881\n",
      "Aeromexico                   351   0.514617\n",
      "United Airlines              335   0.491159\n",
      "Oceanair Linhas Aereas       279   0.409055\n",
      "Alitalia                     259   0.379732\n",
      "K.L.M.                       251   0.368003\n",
      "British Airways              205   0.300560\n",
      "Qantas Airways               195   0.285899\n",
      "Lacsa                         92   0.134885\n",
      "Austral                       74   0.108495\n",
      "Plus Ultra Lineas Aereas      49   0.071841\n"
     ]
    }
   ],
   "source": [
    "conteo = df['OPERA'].value_counts()\n",
    "porcentaje = df['OPERA'].value_counts(normalize=True) * 100\n",
    "\n",
    "resultados = pd.DataFrame({'conteo': conteo, '%': porcentaje})\n",
    "print(\"Tabla 2\")\n",
    "print(resultados)"
   ]
  },
  {
   "cell_type": "markdown",
   "id": "13b4f307",
   "metadata": {},
   "source": [
    "Hay destinos que se repiten notablemente más que otros en la gráfica (Figura 2)."
   ]
  },
  {
   "cell_type": "code",
   "execution_count": 9,
   "id": "71c9131a",
   "metadata": {},
   "outputs": [
    {
     "name": "stdout",
     "output_type": "stream",
     "text": [
      "Figura 2\n"
     ]
    },
    {
     "data": {
      "text/plain": [
       "Text(0.5, 1.0, 'Distribución de destinos')"
      ]
     },
     "execution_count": 9,
     "metadata": {},
     "output_type": "execute_result"
    },
    {
     "data": {
      "image/png": "[encoded data removed]",
      "text/plain": [
       "<Figure size 432x288 with 1 Axes>"
      ]
     },
     "metadata": {
      "needs_background": "light"
     },
     "output_type": "display_data"
    }
   ],
   "source": [
    "print(\"Figura 2\")\n",
    "sns.countplot(data=df, x='Des-I')\n",
    "plt.title('Distribución de destinos')"
   ]
  },
  {
   "cell_type": "markdown",
   "id": "73de918f",
   "metadata": {},
   "source": [
    "Se puede observar en la Tabla 3 que algunos destinos solamente aparecen una vez en la base."
   ]
  },
  {
   "cell_type": "code",
   "execution_count": 10,
   "id": "5d1499fb",
   "metadata": {},
   "outputs": [
    {
     "name": "stdout",
     "output_type": "stream",
     "text": [
      "Tabla 3\n",
      "      conteo         %\n",
      "SCFA    5787  8.484591\n",
      "SPJC    5270  7.726593\n",
      "SCCF    5145  7.543325\n",
      "SCTE    4357  6.388001\n",
      "SCIE    3995  5.857256\n",
      "...      ...       ...\n",
      "SBFI       1  0.001466\n",
      "SPSO       1  0.001466\n",
      "SEQU       1  0.001466\n",
      "SEQM       1  0.001466\n",
      "SARI       1  0.001466\n",
      "\n",
      "[64 rows x 2 columns]\n"
     ]
    }
   ],
   "source": [
    "conteo = df['Des-I'].value_counts()\n",
    "porcentaje = df['Des-I'].value_counts(normalize=True) * 100\n",
    "\n",
    "resultados = pd.DataFrame({'conteo': conteo, '%': porcentaje})\n",
    "print (\"Tabla 3\")\n",
    "print(resultados)"
   ]
  },
  {
   "cell_type": "markdown",
   "id": "360475a1",
   "metadata": {},
   "source": [
    "Los días sábado presentan menor cantidad de vuelos, mientras que en los días lunes, jueves y viernes se ve un alza. El resto de los días de la semana distribuyen de manera similar. "
   ]
  },
  {
   "cell_type": "code",
   "execution_count": 11,
   "id": "b5f483cf",
   "metadata": {},
   "outputs": [
    {
     "name": "stdout",
     "output_type": "stream",
     "text": [
      "Figura 3\n"
     ]
    },
    {
     "data": {
      "image/png": "[encoded data removed]",
      "text/plain": [
       "<Figure size 720x432 with 1 Axes>"
      ]
     },
     "metadata": {
      "needs_background": "light"
     },
     "output_type": "display_data"
    }
   ],
   "source": [
    "print(\"Figura 3\")\n",
    "plt.figure(figsize=(10, 6))\n",
    "sns.histplot(df['DIANOM'], bins=50)\n",
    "plt.title('Distribución de vuelos en la semana')\n",
    "plt.xlabel('Día de la semana')\n",
    "plt.ylabel('Cantidad de Vuelos')\n",
    "plt.show()"
   ]
  },
  {
   "cell_type": "code",
   "execution_count": 12,
   "id": "62e84709",
   "metadata": {},
   "outputs": [],
   "source": [
    "#df[\"Ori-I\"].hist()\n",
    "#df[\"Ori-O\"].hist()"
   ]
  },
  {
   "cell_type": "code",
   "execution_count": 13,
   "id": "bb296bf6",
   "metadata": {},
   "outputs": [
    {
     "name": "stdout",
     "output_type": "stream",
     "text": [
      "Existen 28 vuelos que cambiaron su destino programado.\n",
      "Existen 1850 vuelos que cambiaron el número de vuelo programado.\n",
      "Existen 0 vuelos que cambiaron su origen programado.\n",
      "Existen 18669 vuelos que cambiaron su aerolínea programada.\n"
     ]
    }
   ],
   "source": [
    "# Número de vuelos donde Des-I es diferente a Des-O\n",
    "des = df[df['Des-I'] != df['Des-O']].shape[0]\n",
    "\n",
    "# Número de vuelos donde Vlo-I es diferente a Vlo-O\n",
    "vlo = df[df['Vlo-I'] != df['Vlo-O']].shape[0]\n",
    "\n",
    "# Número de vuelos donde Ori-I es diferente a Ori-O\n",
    "ori = df[df['Ori-I'] != df['Ori-O']].shape[0]\n",
    "\n",
    "# Número de vuelos donde Emp-I es diferente a Emp-O\n",
    "emp = df[df['Emp-I'] != df['Emp-O']].shape[0]\n",
    "\n",
    "print(f\"Existen {des} vuelos que cambiaron su destino programado.\")\n",
    "print(f\"Existen {vlo} vuelos que cambiaron el número de vuelo programado.\")\n",
    "print(f\"Existen {ori} vuelos que cambiaron su origen programado.\")\n",
    "print(f\"Existen {emp} vuelos que cambiaron su aerolínea programada.\")"
   ]
  },
  {
   "cell_type": "markdown",
   "id": "dc7362c2",
   "metadata": {},
   "source": [
    "Los destinos Des-I/Des-O no necesariamente equivalen al destino en SIGLADES (Tabla 4). Esto se puede comprobar comparando, por ejemplo, los datos de índice **16937** y **37162** de la Tabla 4. Se utilizará esto para supuestos que se explican en el punto 1.2. "
   ]
  },
  {
   "cell_type": "code",
   "execution_count": 14,
   "id": "b22e2066",
   "metadata": {},
   "outputs": [
    {
     "name": "stdout",
     "output_type": "stream",
     "text": [
      "Tabla 4\n"
     ]
    },
    {
     "data": {
      "text/html": [
       "<div>\n",
       "<style scoped>\n",
       "    .dataframe tbody tr th:only-of-type {\n",
       "        vertical-align: middle;\n",
       "    }\n",
       "\n",
       "    .dataframe tbody tr th {\n",
       "        vertical-align: top;\n",
       "    }\n",
       "\n",
       "    .dataframe thead th {\n",
       "        text-align: right;\n",
       "    }\n",
       "</style>\n",
       "<table border=\"1\" class=\"dataframe\">\n",
       "  <thead>\n",
       "    <tr style=\"text-align: right;\">\n",
       "      <th></th>\n",
       "      <th>Des-I</th>\n",
       "      <th>Des-O</th>\n",
       "      <th>SIGLADES</th>\n",
       "    </tr>\n",
       "  </thead>\n",
       "  <tbody>\n",
       "    <tr>\n",
       "      <th>1397</th>\n",
       "      <td>SCTE</td>\n",
       "      <td>SCQP</td>\n",
       "      <td>Temuco</td>\n",
       "    </tr>\n",
       "    <tr>\n",
       "      <th>7520</th>\n",
       "      <td>SCIE</td>\n",
       "      <td>SCQP</td>\n",
       "      <td>Temuco</td>\n",
       "    </tr>\n",
       "    <tr>\n",
       "      <th>12823</th>\n",
       "      <td>SCBA</td>\n",
       "      <td>SCTE</td>\n",
       "      <td>Puerto Montt</td>\n",
       "    </tr>\n",
       "    <tr>\n",
       "      <th>16169</th>\n",
       "      <td>KJFK</td>\n",
       "      <td>KMIA</td>\n",
       "      <td>Miami</td>\n",
       "    </tr>\n",
       "    <tr>\n",
       "      <th>16937</th>\n",
       "      <td>SEGU</td>\n",
       "      <td>SABE</td>\n",
       "      <td>Buenos Aires</td>\n",
       "    </tr>\n",
       "    <tr>\n",
       "      <th>20444</th>\n",
       "      <td>SCTE</td>\n",
       "      <td>SCCI</td>\n",
       "      <td>Punta Arenas</td>\n",
       "    </tr>\n",
       "    <tr>\n",
       "      <th>24569</th>\n",
       "      <td>SCFA</td>\n",
       "      <td>SCCF</td>\n",
       "      <td>Calama</td>\n",
       "    </tr>\n",
       "    <tr>\n",
       "      <th>33166</th>\n",
       "      <td>SBGR</td>\n",
       "      <td>SBGL</td>\n",
       "      <td>Rio de Janeiro</td>\n",
       "    </tr>\n",
       "    <tr>\n",
       "      <th>37162</th>\n",
       "      <td>SABE</td>\n",
       "      <td>SAEZ</td>\n",
       "      <td>Buenos Aires</td>\n",
       "    </tr>\n",
       "    <tr>\n",
       "      <th>39265</th>\n",
       "      <td>KIAH</td>\n",
       "      <td>KIAD</td>\n",
       "      <td>Washington</td>\n",
       "    </tr>\n",
       "    <tr>\n",
       "      <th>42112</th>\n",
       "      <td>SCCI</td>\n",
       "      <td>SCTE</td>\n",
       "      <td>Puerto Montt</td>\n",
       "    </tr>\n",
       "    <tr>\n",
       "      <th>55144</th>\n",
       "      <td>SEQU</td>\n",
       "      <td>SEQM</td>\n",
       "      <td>Quito</td>\n",
       "    </tr>\n",
       "    <tr>\n",
       "      <th>61463</th>\n",
       "      <td>SCIE</td>\n",
       "      <td>SCTE</td>\n",
       "      <td>Puerto Montt</td>\n",
       "    </tr>\n",
       "    <tr>\n",
       "      <th>62651</th>\n",
       "      <td>YSSY</td>\n",
       "      <td>YMML</td>\n",
       "      <td>Melbourne</td>\n",
       "    </tr>\n",
       "    <tr>\n",
       "      <th>67599</th>\n",
       "      <td>SAEZ</td>\n",
       "      <td>SABE</td>\n",
       "      <td>Buenos Aires</td>\n",
       "    </tr>\n",
       "    <tr>\n",
       "      <th>67697</th>\n",
       "      <td>SARI</td>\n",
       "      <td>SBFI</td>\n",
       "      <td>Cataratas Iguacu</td>\n",
       "    </tr>\n",
       "  </tbody>\n",
       "</table>\n",
       "</div>"
      ],
      "text/plain": [
       "      Des-I Des-O          SIGLADES\n",
       "1397   SCTE  SCQP            Temuco\n",
       "7520   SCIE  SCQP            Temuco\n",
       "12823  SCBA  SCTE      Puerto Montt\n",
       "16169  KJFK  KMIA             Miami\n",
       "16937  SEGU  SABE      Buenos Aires\n",
       "20444  SCTE  SCCI      Punta Arenas\n",
       "24569  SCFA  SCCF            Calama\n",
       "33166  SBGR  SBGL    Rio de Janeiro\n",
       "37162  SABE  SAEZ      Buenos Aires\n",
       "39265  KIAH  KIAD        Washington\n",
       "42112  SCCI  SCTE      Puerto Montt\n",
       "55144  SEQU  SEQM             Quito\n",
       "61463  SCIE  SCTE      Puerto Montt\n",
       "62651  YSSY  YMML         Melbourne\n",
       "67599  SAEZ  SABE      Buenos Aires\n",
       "67697  SARI  SBFI  Cataratas Iguacu"
      ]
     },
     "execution_count": 14,
     "metadata": {},
     "output_type": "execute_result"
    }
   ],
   "source": [
    "data = df[df['Des-I'] != df['Des-O']]\n",
    "data = data[['Des-I', 'Des-O', 'SIGLADES']].drop_duplicates()\n",
    "print(\"Tabla 4\")\n",
    "data"
   ]
  },
  {
   "cell_type": "markdown",
   "id": "743c419c",
   "metadata": {},
   "source": [
    "#### 1.2. Observaciones"
   ]
  },
  {
   "cell_type": "markdown",
   "id": "6f985cb6",
   "metadata": {},
   "source": [
    "La poca diversidad de los valores de la variable OPERA puede significar que su capacidad predictiva esté sesgada o no sea útil. Más adelante se analizará si es que esta variable aporta valor significativo al modelo o no, para considerar su eliminación. \n",
    "\n",
    "Por otro lado, se podrían quitar los outliers de la variable DES-I ya que, como se puede ver en la Tabla 3, hay destinos que **aparecen únicamente una vez** en la base. \n",
    "\n",
    "Las variables Ori-I, Ori-O, SIGLAORI y AÑO no se considerarán relevantes, ya que repiten únicamente un mismo valor (AÑO tiene un solo valor distinto a 2017). Además, como el origen siempre es Santiago, **el problema no abarca atrasos de vuelos que aterrizan en Santiago**, solamente aquellos que despegan. \n",
    "\n",
    "Son muy pocos los vuelos que cambiaron su destino programado (28 de un universo de 68.200), por ende se podría considerar que las variables Des-I y Des-O son equivalentes (aunque representen cosas distintas) y se eliminará una de las dos.\n",
    "\n",
    "Por último, como se mencionó en el punto 1.1., el destino SIGLADES no equivale a Des-I ni Des-O. Debido a esto, **se van a hacer las siguientes suposiciones**: \n",
    "- Des-I corresponde al destino programado del **vuelo**, no del viaje\n",
    "- Des-O corresponde al destino de operación del **vuelo**, no del viaje\n",
    "- SIGLADES corresponde al destino del **viaje**, no necesariamente del vuelo \n",
    "\n",
    "Para aclarar lo anterior, se puede considerar como ejemplo un viaje que presenta una escala. El destino final del viaje corresponde a SIGLADES, mientras que los destinos Des-I/Des-O toman como valor la ciudad donde se hace una escala y la del destino final del viaje. "
   ]
  },
  {
   "cell_type": "markdown",
   "id": "265d9d82",
   "metadata": {},
   "source": [
    "##  2. Construcción de variables\n"
   ]
  },
  {
   "cell_type": "markdown",
   "id": "7276b327",
   "metadata": {},
   "source": [
    "#### 2.1 Construcción"
   ]
  },
  {
   "cell_type": "code",
   "execution_count": 15,
   "id": "0927e00b",
   "metadata": {},
   "outputs": [],
   "source": [
    "# Pasar fechas a formato datetime\n",
    "df['Fecha-I'] = pd.to_datetime(df['Fecha-I'])\n",
    "df['Fecha-O'] = pd.to_datetime(df['Fecha-O'])\n",
    "\n",
    "# Crear variable min_diff como diferencia entre Fecha-O y Fecha-I, en minutos\n",
    "df['min_diff'] = (df['Fecha-O'] - df['Fecha-I']).dt.total_seconds() / 60  # en minutos\n",
    "\n",
    "# Crear variable delay_15\n",
    "df['delay_15'] = (df['min_diff'] > 15).astype(int)\n",
    "\n",
    "# Función que retorna una binaria con el valor 1 cuando Fecha-I está entre Dic-15 y Mar-3, o Jul-15 y Jul-31, o Sep-11 y Sep-30\n",
    "def is_high_season(date):\n",
    "    if ((date.month == 12 and date.day >= 15) or (date.month == 1) or (date.month == 2) or (date.month == 3 and date.day <= 3) or\n",
    "        (date.month == 7 and date.day >= 15 and date.day <= 31) or\n",
    "        (date.month == 9 and date.day >= 11 and date.day <= 30)):\n",
    "        return 1\n",
    "    else:\n",
    "        return 0\n",
    "    \n",
    "# Aplicar la función anterior a la base para crear la variable high_season\n",
    "df['high_season'] = df['Fecha-I'].apply(is_high_season)\n",
    "\n",
    "# Función que retorna los valores \"morning\", \"afternoon\" o \"night\" dependiendo de la hora programada del vuelo (Fecha-I)\n",
    "def period_of_day(timestamp):\n",
    "    hour = timestamp.hour\n",
    "    if 5 <= hour < 12:\n",
    "        return 'morning'\n",
    "    elif 12 <= hour < 19:\n",
    "        return 'afternoon'\n",
    "    else:\n",
    "        return 'night'\n",
    "    \n",
    "# Aplicar función anterior a la base para crear la variable period_day\n",
    "df['period_day'] = df['Fecha-I'].apply(period_of_day)"
   ]
  },
  {
   "cell_type": "markdown",
   "id": "0960f574",
   "metadata": {},
   "source": [
    "#### 2.2. Exportación"
   ]
  },
  {
   "cell_type": "code",
   "execution_count": 16,
   "id": "692f944e",
   "metadata": {},
   "outputs": [],
   "source": [
    "#df[['min_diff', 'delay_15', 'high_season', 'period_day']].to_csv('synthetic_features.csv', index=False)"
   ]
  },
  {
   "cell_type": "markdown",
   "id": "8c51a3e1",
   "metadata": {},
   "source": [
    "## 3. Comportamiento de variables con respecto al delay"
   ]
  },
  {
   "cell_type": "markdown",
   "id": "b96f739f",
   "metadata": {},
   "source": [
    "La mayoría de los vuelos no están considerados como atrasados (Figura 4), por lo tanto hay un **desbalance en la data** que tendrá que trabajarse con algún método de balanceo. "
   ]
  },
  {
   "cell_type": "code",
   "execution_count": 17,
   "id": "2232ee23",
   "metadata": {},
   "outputs": [
    {
     "name": "stdout",
     "output_type": "stream",
     "text": [
      "Figura 4\n"
     ]
    },
    {
     "data": {
      "image/png": "[encoded data removed]",
      "text/plain": [
       "<Figure size 720x432 with 1 Axes>"
      ]
     },
     "metadata": {
      "needs_background": "light"
     },
     "output_type": "display_data"
    },
    {
     "name": "stdout",
     "output_type": "stream",
     "text": [
      "*La línea vertical roja representa el valor desde donde se comienza a considerar el vuelo como atrasado (15 minutos)\n"
     ]
    }
   ],
   "source": [
    "print(\"Figura 4\")\n",
    "plt.figure(figsize=(10, 6))\n",
    "sns.histplot(df['min_diff'], bins=50, kde=True) \n",
    "plt.axvline(15, color='red', linestyle='--', label='x = 15')\n",
    "plt.title('Distribución de atrasos en minutos')\n",
    "plt.xlabel('Atraso (minutos)')\n",
    "plt.ylabel('Cantidad de vuelos')\n",
    "plt.show()\n",
    "print(\"*La línea vertical roja representa el valor desde donde se comienza a considerar el vuelo como atrasado (15 minutos)\")\n"
   ]
  },
  {
   "cell_type": "markdown",
   "id": "7ca3e26e",
   "metadata": {},
   "source": [
    "Del Set de Figuras 1 se puede observar lo siguiente:\n",
    "- El atraso varía según el destino\n",
    "- Hay aerolíneas con mayor atraso que otras (Figura 5). Sin embargo, cabe recordar que la gran mayoría de los vuelos en la base de datos están operados por Grupo LATAM o por Sky Airline, por ende no se puede asumir que la variable será significativa\n",
    "- Los meses de julio y diciembre presentan mayor atraso que el resto\n",
    "- No se observa diferencia en el atraso para las variables de día de la semana, temporada alta y tipo de vuelo"
   ]
  },
  {
   "cell_type": "code",
   "execution_count": 18,
   "id": "301f576f",
   "metadata": {},
   "outputs": [
    {
     "name": "stdout",
     "output_type": "stream",
     "text": [
      "Set de Figuras 1\n"
     ]
    },
    {
     "data": {
      "image/png": "[encoded data removed]",
      "text/plain": [
       "<Figure size 1080x720 with 6 Axes>"
      ]
     },
     "metadata": {
      "needs_background": "light"
     },
     "output_type": "display_data"
    }
   ],
   "source": [
    "print(\"Set de Figuras 1\")\n",
    "fig, axes = plt.subplots(nrows=2, ncols=3, figsize=(15, 10))\n",
    "\n",
    "variables = ['Des-I','OPERA', 'MES', 'DIANOM', 'high_season', 'TIPOVUELO']\n",
    "\n",
    "for ax, variable in zip(axes.flatten(), variables):\n",
    "    sns.boxplot(x=variable, y='delay_15', data=df, ax=ax)\n",
    "    ax.set_title(f'Distribución de atrasos por {variable}')\n",
    "    ax.tick_params(axis='x', rotation=45)  \n",
    "\n",
    "plt.tight_layout()\n",
    "plt.show()"
   ]
  },
  {
   "cell_type": "markdown",
   "id": "a518c59b",
   "metadata": {},
   "source": [
    "Dado lo anterior, esperaría que las variables con mayor impacto en la predicción del atraso correspondan al mes del año y destino. "
   ]
  },
  {
   "cell_type": "markdown",
   "id": "886648a1",
   "metadata": {},
   "source": [
    "## 4. Entrenamiento"
   ]
  },
  {
   "cell_type": "markdown",
   "id": "f444a519",
   "metadata": {},
   "source": [
    "#### 4.1. Variables adicionales"
   ]
  },
  {
   "cell_type": "markdown",
   "id": "bfe9e6b5",
   "metadata": {},
   "source": [
    "Se crearán las siguientes variables:\n",
    "- **n_vuelos_30min_destino**: cantidad de vuelos en un intervalo de 30 minutos (+-15 min) que viajan de Santiago al mismo destino\n",
    "- **n_vuelos_30min**: cantidad de vuelos que salen de Santiago en un intervalo de 30 minutos (+-15 min)\n",
    "- **atrasos_1h_destino**: cantidad de vuelos que se atrasaron en la última hora hacia el mismo destino\n",
    "- **historial_atrasos_destino**: promedio de atrasos que hubo en los últimos 15 días hacia el destino del vuelo\n",
    "- **historial_atrasos_vuelo**: promedio de atrasos que tuvo el número de vuelo en los últimos 15 días\n",
    "- **historial_atrasos_opera**: promedio de atrasos de la aerolínea que opera en los últimos 15 días\n",
    "- **mantiene_aerolinea**: binaria que toma el valor 1 si es que la aerolínea programada sufrió un cambio*\n",
    "\n",
    "\n",
    "*No se estimó necesario hacer lo mismo para el resto de variables var-I/var-O ya que, como se vio en el análisis de distribución, existen muy pocos datos donde hubo un cambio sobre lo programado.\n"
   ]
  },
  {
   "cell_type": "code",
   "execution_count": 19,
   "id": "49d7c5ec",
   "metadata": {},
   "outputs": [],
   "source": [
    "def contar_vuelos_30min_des(group):\n",
    "    return group.apply(lambda row: ((group['Fecha-I'] >= row['Fecha-I'] - pd.Timedelta(minutes=15)) &\n",
    "                                    (group['Fecha-I'] <= row['Fecha-I'] + pd.Timedelta(minutes=15))).sum() - 1, axis=1)\n",
    "\n",
    "df['n_vuelos_30min_destino'] = df.groupby('Des-I').apply(contar_vuelos_30min_des).reset_index(level=0, drop=True)"
   ]
  },
  {
   "cell_type": "code",
   "execution_count": 20,
   "id": "be4913d1",
   "metadata": {},
   "outputs": [],
   "source": [
    "def contar_vuelos_30min(group):\n",
    "    return group.apply(lambda row: ((group['Fecha-I'] >= row['Fecha-I'] - pd.Timedelta(minutes=15)) &\n",
    "                                    (group['Fecha-I'] <= row['Fecha-I'] + pd.Timedelta(minutes=15))).sum() - 1, axis=1)\n",
    "\n",
    "df['n_vuelos_30min'] = contar_vuelos_30min(df)"
   ]
  },
  {
   "cell_type": "code",
   "execution_count": 21,
   "id": "c854aa1d",
   "metadata": {},
   "outputs": [],
   "source": [
    "df = df.sort_values(by=['Des-I', 'Fecha-I'])\n",
    "\n",
    "def contar_atrasos_grupo_des(group):\n",
    "    return group['Fecha-I'].apply(lambda x: len(group[(group['Fecha-I'] < x) & \n",
    "                                                      (group['Fecha-I'] >= x - pd.Timedelta(hours=1)) & \n",
    "                                                      (group['delay_15'])]))\n",
    "\n",
    "df['atrasos_1h_destino'] = df.groupby('Des-I').apply(contar_atrasos_grupo_des).reset_index(level=0, drop=True)"
   ]
  },
  {
   "cell_type": "code",
   "execution_count": 22,
   "id": "cbc51602",
   "metadata": {},
   "outputs": [],
   "source": [
    "def contar_atrasos_grupo(group):\n",
    "    return group['Fecha-I'].apply(lambda x: len(group[(group['Fecha-I'] < x) & \n",
    "                                                      (group['Fecha-I'] >= x - pd.Timedelta(hours=1)) & \n",
    "                                                      (group['delay_15'])]))\n",
    "\n",
    "df['atrasos_1h'] = contar_atrasos_grupo(df)"
   ]
  },
  {
   "cell_type": "code",
   "execution_count": 23,
   "id": "d97669ca",
   "metadata": {},
   "outputs": [],
   "source": [
    "def historial_atrasos(group):\n",
    "    group_dates = group['Fecha-I'].values  # Vector de fechas del grupo\n",
    "    results = []\n",
    "\n",
    "    for date in group_dates:\n",
    "        # Definir el rango de fechas para el historial (en este caso, los últimos 15 días)\n",
    "        start_date = date - pd.Timedelta(days=15)\n",
    "        mask = (group_dates >= start_date) & (group_dates < date)\n",
    "        mean_delay = group['delay_15'][mask].mean()\n",
    "        results.append(mean_delay)\n",
    "\n",
    "    return pd.Series(results, index=group.index)\n",
    "\n",
    "df['historial_atrasos_destino'] = df.groupby('Des-I').apply(historial_atrasos).reset_index(level=0, drop=True)\n",
    "df['historial_atrasos_destino'] = df['historial_atrasos_destino'].fillna(0)\n",
    "df['historial_atrasos_vuelo'] = df.groupby('Vlo-I').apply(historial_atrasos).reset_index(level=0, drop=True)\n",
    "df['historial_atrasos_vuelo'] = df['historial_atrasos_vuelo'].fillna(0)\n",
    "df['historial_atrasos_opera'] = df.groupby('OPERA').apply(historial_atrasos).reset_index(level=0, drop=True)\n",
    "df['historial_atrasos_opera'] = df['historial_atrasos_opera'].fillna(0)"
   ]
  },
  {
   "cell_type": "code",
   "execution_count": 24,
   "id": "4eb6e6c6",
   "metadata": {},
   "outputs": [],
   "source": [
    "df['mantiene_aerolinea'] = (df['Emp-I'] == df['Emp-O']).astype(int)"
   ]
  },
  {
   "cell_type": "markdown",
   "id": "f411a005",
   "metadata": {},
   "source": [
    "#### 4.2. Pre-procesamiento"
   ]
  },
  {
   "cell_type": "code",
   "execution_count": 25,
   "id": "20d22e79",
   "metadata": {},
   "outputs": [],
   "source": [
    "df = df.dropna()"
   ]
  },
  {
   "cell_type": "markdown",
   "id": "7eb0371d",
   "metadata": {},
   "source": [
    "Las variables **Des-I y SIGLADES están relacionadas significativamente**. Esto se puede comprobar con un test de significancia y se observa al ver el comportamiento de atrasos de ambas (Set de Figuras 2). Se podría elegir una variable y descartar la otra, pero como se vio anteriormente, las variables contienen datos distintos, por lo tanto **se decide concatenarlas** en una variable compuesta denominada **'des_comp'**. "
   ]
  },
  {
   "cell_type": "code",
   "execution_count": 26,
   "id": "b6d492f4",
   "metadata": {},
   "outputs": [
    {
     "name": "stdout",
     "output_type": "stream",
     "text": [
      "Chi2 value: 4088933.801632338\n",
      "P-value: 0.0\n",
      "Degrees of freedom: 3843\n",
      "Expected frequency table:\n",
      "[[2.40075948e+01 1.01075874e+01 9.62627373e-01 ... 2.48955355e-02\n",
      "  3.12438971e+00 4.14925592e-03]\n",
      " [1.73906605e+01 7.32175060e+00 6.97309581e-01 ... 1.80338685e-02\n",
      "  2.26325049e+00 3.00564475e-03]\n",
      " [8.48324903e-02 3.57158566e-02 3.40151015e-03 ... 8.79700902e-05\n",
      "  1.10402463e-02 1.46616817e-05]\n",
      " ...\n",
      " [9.04314346e+01 3.80731031e+01 3.62600982e+00 ... 9.37761161e-02\n",
      "  1.17689026e+01 1.56293527e-02]\n",
      " [3.22363463e+00 1.35720255e+00 1.29257386e-01 ... 3.34286343e-03\n",
      "  4.19529360e-01 5.57143904e-04]\n",
      " [1.65423356e+01 6.96459204e+00 6.63294480e-01 ... 1.71541676e-02\n",
      "  2.15284803e+00 2.85902793e-03]]\n",
      "Se rechaza la hipótesis nula. Las variables tienen una relación significativa.\n"
     ]
    }
   ],
   "source": [
    "contingency_table = pd.crosstab(df['Des-I'], df['SIGLADES'])\n",
    "\n",
    "# Realizar prueba de chi-cuadrado\n",
    "chi2, p, dof, expected = chi2_contingency(contingency_table)\n",
    "\n",
    "print(f\"Chi2 value: {chi2}\")\n",
    "print(f\"P-value: {p}\")\n",
    "print(f\"Degrees of freedom: {dof}\")\n",
    "print(\"Expected frequency table:\")\n",
    "print(expected)\n",
    "\n",
    "alpha = 0.05  # Nivel de significancia\n",
    "if p < alpha:\n",
    "    print(\"Se rechaza la hipótesis nula. Las variables tienen una relación significativa.\")\n",
    "else:\n",
    "    print(\"No se rechaza la hipótesis nula.\")"
   ]
  },
  {
   "cell_type": "code",
   "execution_count": 27,
   "id": "ddce9738",
   "metadata": {},
   "outputs": [
    {
     "name": "stdout",
     "output_type": "stream",
     "text": [
      "Set de Figuras 2\n"
     ]
    },
    {
     "data": {
      "image/png": "[encoded data removed]",
      "text/plain": [
       "<Figure size 720x360 with 2 Axes>"
      ]
     },
     "metadata": {
      "needs_background": "light"
     },
     "output_type": "display_data"
    }
   ],
   "source": [
    "print(\"Set de Figuras 2\")\n",
    "fig, axes = plt.subplots(nrows=1, ncols=2, figsize=(10, 5))\n",
    "\n",
    "variables = ['Des-I','SIGLADES']\n",
    "\n",
    "for ax, variable in zip(axes.flatten(), variables):\n",
    "    sns.boxplot(x=variable, y='delay_15', data=df, ax=ax)\n",
    "    ax.set_title(f'Distribución de atrasos por {variable}')\n",
    "    ax.tick_params(axis='x', rotation=45)  \n",
    "\n",
    "plt.tight_layout()\n",
    "plt.show()"
   ]
  },
  {
   "cell_type": "code",
   "execution_count": 28,
   "id": "fde108b8",
   "metadata": {},
   "outputs": [],
   "source": [
    "df['des_comp'] = df['Des-I'] + df['SIGLADES']"
   ]
  },
  {
   "cell_type": "markdown",
   "id": "968c7798",
   "metadata": {},
   "source": [
    "De la misma forma, se crea la variable **'opera_comp'** compuesta por **Emp-O y OPERA**. "
   ]
  },
  {
   "cell_type": "code",
   "execution_count": 29,
   "id": "c2a4b601",
   "metadata": {},
   "outputs": [
    {
     "name": "stdout",
     "output_type": "stream",
     "text": [
      "Chi2 value: 1439454.191226147\n",
      "P-value: 0.0\n",
      "Degrees of freedom: 682\n",
      "Expected frequency table:\n",
      "[[2.85756176e-01 5.14625027e-02 8.28385016e-02 5.24888205e-02\n",
      "  3.79737556e-02 1.10988930e-01 1.08496445e-02 1.68902573e-01\n",
      "  3.00564475e-02 2.71241111e-01 5.24888205e-02 1.18173154e-01\n",
      "  5.99545488e+00 5.30752877e-02 1.60545415e-01 3.68008211e-02\n",
      "  1.34887472e-02 2.45289935e-01 4.09060919e-02 7.18422403e-03\n",
      "  2.85902793e-02 2.09632725e+00 4.91166337e-02]\n",
      " [4.57209882e-01 8.23400044e-02 1.32541603e-01 8.39821127e-02\n",
      "  6.07580089e-02 1.77582289e-01 1.73594311e-02 2.70244117e-01\n",
      "  4.80903160e-02 4.33985778e-01 8.39821127e-02 1.89077047e-01\n",
      "  9.59272781e+00 8.49204604e-02 2.56872663e-01 5.88813137e-02\n",
      "  2.15819955e-02 3.92463896e-01 6.54497471e-02 1.14947584e-02\n",
      "  4.57444469e-02 3.35412360e+00 7.85866139e-02]\n",
      " [2.16317425e+01 3.89571146e+00 6.27087457e+00 3.97340371e+00\n",
      "  2.87461330e+00 8.40186203e+00 8.21318085e-01 1.27859248e+01\n",
      "  2.27527307e+00 2.05329521e+01 3.97340371e+00 8.94570779e+00\n",
      "  4.53855934e+02 4.01779928e+00 1.21532879e+01 2.78582215e+00\n",
      "  1.02109816e+00 1.85684481e+01 3.09659116e+00 5.43845759e-01\n",
      "  2.16428414e+00 1.58691973e+02 3.71812917e+00]\n",
      " [1.61452240e+01 2.90763141e+00 4.68037534e+00 2.96561836e+00\n",
      "  2.14551719e+00 6.27087457e+00 6.13004912e-01 9.54299538e+00\n",
      "  1.69818928e+00 1.53251228e+01 2.96561836e+00 6.67678323e+00\n",
      "  3.38743201e+02 2.99875376e+00 9.07081592e+00 2.07924639e+00\n",
      "  7.62114215e-01 1.38588813e+01 2.31119419e+00 4.05908658e-01\n",
      "  1.61535078e+00 1.18442490e+02 2.77508980e+00]\n",
      " [1.02300711e+01 1.84235760e+00 2.96561836e+00 1.87909977e+00\n",
      "  1.35946045e+00 3.97340371e+00 3.88417271e-01 6.04671212e+00\n",
      "  1.07602082e+00 9.71043179e+00 1.87909977e+00 4.23059893e+00\n",
      "  2.14637285e+02 1.90009530e+00 5.74752584e+00 1.31746939e+00\n",
      "  4.82897148e-01 8.78137966e+00 1.46443809e+00 2.57195220e-01\n",
      "  1.02353200e+00 7.50485155e+01 1.75837549e+00]\n",
      " [1.00300418e+01 1.80633385e+00 2.90763141e+00 1.84235760e+00\n",
      "  1.33287882e+00 3.89571146e+00 3.80822520e-01 5.92848032e+00\n",
      "  1.05498131e+00 9.52056301e+00 1.84235760e+00 4.14787772e+00\n",
      "  2.10440466e+02 1.86294260e+00 5.63514405e+00 1.29170882e+00\n",
      "  4.73455025e-01 8.60967671e+00 1.43580383e+00 2.52166263e-01\n",
      "  1.00351880e+00 7.35810864e+01 1.72399384e+00]\n",
      " [5.56081519e+01 1.00146030e+01 1.61203724e+01 1.02143245e+01\n",
      "  7.38969284e+00 2.15984459e+01 2.11134081e+00 3.28684407e+01\n",
      "  5.84898468e+00 5.27835203e+01 1.02143245e+01 2.29964959e+01\n",
      "  1.16671552e+03 1.03284510e+01 3.12421377e+01 7.16143978e+00\n",
      "  2.62491020e+00 4.77334213e+01 7.96032549e+00 1.39805000e+00\n",
      "  5.56366835e+00 4.07945283e+02 9.55809691e+00]\n",
      " [2.20032256e+00 3.96261271e-01 6.37856462e-01 4.04163918e-01\n",
      "  2.92397918e-01 8.54614764e-01 8.35422623e-02 1.30054981e+00\n",
      "  2.31434646e-01 2.08855656e+00 4.04163918e-01 9.09933289e-01\n",
      "  4.61650026e+01 4.08679716e-01 1.23619969e+00 2.83366322e-01\n",
      "  1.03863353e-01 1.88873250e+00 3.14976908e-01 5.53185250e-02\n",
      "  2.20145151e-01 1.61417198e+01 3.78198079e-01]\n",
      " [2.52894216e+01 4.55443149e+00 7.33120739e+00 4.64526061e+00\n",
      "  3.36067737e+00 9.82252034e+00 9.60193534e-01 1.49478777e+01\n",
      "  2.65999560e+00 2.40048384e+01 4.64526061e+00 1.04583242e+01\n",
      "  5.30597757e+02 4.69716296e+00 1.42082692e+01 3.25687266e+00\n",
      "  1.19375412e+00 2.17081592e+01 3.62018914e+00 6.35803827e-01\n",
      "  2.53023972e+00 1.85524962e+02 4.34682208e+00]\n",
      " [7.40108496e+00 1.33287882e+00 2.14551719e+00 1.35946045e+00\n",
      "  9.83520270e-01 2.87461330e+00 2.81005791e-01 4.37457664e+00\n",
      "  7.78461990e-01 7.02514478e+00 1.35946045e+00 3.06068470e+00\n",
      "  1.55282281e+02 1.37464995e+00 4.15812624e+00 9.53141265e-01\n",
      "  3.49358551e-01 6.35300931e+00 1.05946778e+00 1.86071402e-01\n",
      "  7.40488234e-01 5.42948757e+01 1.27212081e+00]\n",
      " [5.85800161e+00 1.05498131e+00 1.69818928e+00 1.07602082e+00\n",
      "  7.78461990e-01 2.27527307e+00 2.22417711e-01 3.46250275e+00\n",
      "  6.16157173e-01 5.56044278e+00 1.07602082e+00 2.42254967e+00\n",
      "  1.22906825e+02 1.08804340e+00 3.29118100e+00 7.54416832e-01\n",
      "  2.76519317e-01 5.02844366e+00 8.38574885e-01 1.47276593e-01\n",
      "  5.86100726e-01 4.29747086e+01 1.00689099e+00]\n",
      " [5.28648926e+01 9.52056301e+00 1.53251228e+01 9.71043179e+00\n",
      "  7.02514478e+00 2.05329521e+01 2.00718422e+00 3.12469760e+01\n",
      "  5.56044278e+00 5.01796056e+01 9.71043179e+00 2.18620336e+01\n",
      "  1.10915915e+03 9.81892823e+00 2.97009017e+01 6.80815190e+00\n",
      "  2.49541822e+00 4.53786379e+01 7.56762701e+00 1.32908145e+00\n",
      "  5.28920167e+00 3.87820541e+02 9.08657723e+00]\n",
      " [1.02300711e+01 1.84235760e+00 2.96561836e+00 1.87909977e+00\n",
      "  1.35946045e+00 3.97340371e+00 3.88417271e-01 6.04671212e+00\n",
      "  1.07602082e+00 9.71043179e+00 1.87909977e+00 4.23059893e+00\n",
      "  2.14637285e+02 1.90009530e+00 5.74752584e+00 1.31746939e+00\n",
      "  4.82897148e-01 8.78137966e+00 1.46443809e+00 2.57195220e-01\n",
      "  1.02353200e+00 7.50485155e+01 1.75837549e+00]\n",
      " [1.40877795e+01 2.53710139e+00 4.08393813e+00 2.58769885e+00\n",
      "  1.87210615e+00 5.47175427e+00 5.34887472e-01 8.32689686e+00\n",
      "  1.48178286e+00 1.33721868e+01 2.58769885e+00 5.82593651e+00\n",
      "  2.95575926e+02 2.61661169e+00 7.91488894e+00 1.81428048e+00\n",
      "  6.64995235e-01 1.20927938e+01 2.01667033e+00 3.54182245e-01\n",
      "  1.40950077e+00 1.03348933e+02 2.42145004e+00]\n",
      " [2.30319478e+01 4.14787772e+00 6.67678323e+00 4.23059893e+00\n",
      "  3.06068470e+00 8.94570779e+00 8.74481343e-01 1.36135474e+01\n",
      "  2.42254967e+00 2.18620336e+01 4.23059893e+00 9.52475625e+00\n",
      "  4.83233663e+02 4.27786819e+00 1.29399604e+01 2.96614618e+00\n",
      "  1.08719302e+00 1.97703687e+01 3.29703101e+00 5.79048457e-01\n",
      "  2.30437651e+00 1.68963976e+02 3.95880067e+00]\n",
      " [1.03443736e+01 1.86294260e+00 2.99875376e+00 1.90009530e+00\n",
      "  1.37464995e+00 4.01779928e+00 3.92757129e-01 6.11427315e+00\n",
      "  1.08804340e+00 9.81892823e+00 1.90009530e+00 4.27786819e+00\n",
      "  2.17035467e+02 1.92132542e+00 5.81174401e+00 1.33218972e+00\n",
      "  4.88292647e-01 8.87949564e+00 1.48080053e+00 2.60068910e-01\n",
      "  1.03496811e+00 7.58870464e+01 1.77802214e+00]\n",
      " [3.12903013e+01 5.63514405e+00 9.07081592e+00 5.74752584e+00\n",
      "  4.15812624e+00 1.21532879e+01 1.18803607e+00 1.84948318e+01\n",
      "  3.29118100e+00 2.97009017e+01 5.74752584e+00 1.29399604e+01\n",
      "  6.56502309e+02 5.81174401e+00 1.75797229e+01 4.02968991e+00\n",
      "  1.47701781e+00 2.68592479e+01 4.47921707e+00 7.86672531e-01\n",
      "  3.13063558e+00 2.29547834e+02 5.37827139e+00]\n",
      " [4.70640422e+01 8.47587420e+00 1.36435012e+01 8.64490873e+00\n",
      "  6.25427755e+00 1.82798768e+01 1.78693644e+00 2.78182538e+01\n",
      "  4.95029690e+00 4.46734110e+01 8.64490873e+00 1.94631185e+01\n",
      "  9.87451419e+02 8.74149989e+00 2.64418298e+01 6.06109523e+00\n",
      "  2.22159666e+00 4.03992523e+01 6.73723334e+00 1.18324170e+00\n",
      "  4.70881900e+00 3.45265098e+02 8.08950957e+00]\n",
      " [7.17248002e+00 1.29170882e+00 2.07924639e+00 1.31746939e+00\n",
      "  9.53141265e-01 2.78582215e+00 2.72326076e-01 4.23945459e+00\n",
      "  7.54416832e-01 6.80815190e+00 1.31746939e+00 2.96614618e+00\n",
      "  1.50485917e+02 1.33218972e+00 4.02968991e+00 9.23700608e-01\n",
      "  3.38567554e-01 6.15677736e+00 1.02674291e+00 1.80324023e-01\n",
      "  7.17616011e-01 5.26178139e+01 1.23282751e+00]\n",
      " [5.99745063e+02 1.08009501e+02 1.73861447e+02 1.10163536e+02\n",
      "  7.96993182e+01 2.32943567e+02 2.27712338e+01 3.54492720e+02\n",
      "  6.30824720e+01 5.69280845e+02 1.10163536e+02 2.48021817e+02\n",
      "  1.25832607e+04 1.11394414e+02 3.36952716e+02 7.72375632e+01\n",
      "  2.83101825e+01 5.14814515e+02 8.58537057e+01 1.50782494e+01\n",
      "  6.00052782e+01 4.39977163e+03 1.03085991e+02]\n",
      " [6.25806026e+00 1.12702881e+00 1.81416318e+00 1.14950517e+00\n",
      "  8.31625247e-01 2.43065758e+00 2.37607214e-01 3.69896635e+00\n",
      "  6.58236200e-01 5.94018034e+00 1.14950517e+00 2.58799208e+00\n",
      "  1.31300462e+02 1.16234880e+00 3.51594458e+00 8.05937981e-01\n",
      "  2.95403563e-01 5.37184957e+00 8.95843413e-01 1.57334506e-01\n",
      "  6.26127117e-01 4.59095667e+01 1.07565428e+00]\n",
      " [1.06872810e+01 1.92469760e+00 3.09815996e+00 1.96308189e+00\n",
      "  1.42021846e+00 4.15098600e+00 4.05776703e-01 6.31695623e+00\n",
      "  1.12411114e+00 1.01444176e+01 1.96308189e+00 4.41967598e+00\n",
      "  2.24230012e+02 1.98501576e+00 6.00439850e+00 1.37635071e+00\n",
      "  5.04479144e-01 9.17384356e+00 1.52988784e+00 2.68689979e-01\n",
      "  1.06927645e+00 7.84026391e+01 1.83696210e+00]\n",
      " [3.46907998e+01 6.24754783e+00 1.00565941e+01 6.37214280e+00\n",
      "  4.61001393e+00 1.34740562e+01 1.31714684e+00 2.05047724e+01\n",
      "  3.64885272e+00 3.29286709e+01 6.37214280e+00 1.43462210e+01\n",
      "  7.27848222e+02 6.44333993e+00 1.94902133e+01 4.46761968e+00\n",
      "  1.63753391e+00 2.97781981e+01 4.96599956e+00 8.72164797e-01\n",
      "  3.47085991e+00 2.54494128e+02 5.96275933e+00]\n",
      " [1.02014955e+01 1.83721135e+00 2.95733451e+00 1.87385089e+00\n",
      "  1.35566307e+00 3.96230482e+00 3.87332307e-01 6.02982186e+00\n",
      "  1.07301517e+00 9.68330768e+00 1.87385089e+00 4.21878161e+00\n",
      "  2.14037739e+02 1.89478777e+00 5.73147130e+00 1.31378931e+00\n",
      "  4.81548274e-01 8.75685067e+00 1.46034748e+00 2.56476798e-01\n",
      "  1.02067297e+00 7.48388828e+01 1.75346382e+00]\n",
      " [4.16003841e+02 7.49191115e+01 1.20596291e+02 7.64132248e+01\n",
      "  5.52821934e+01 1.61577685e+02 1.57949124e+01 2.45888366e+02\n",
      "  4.37561762e+01 3.94872810e+02 7.64132248e+01 1.72036478e+02\n",
      "  8.72818321e+03 7.72670039e+01 2.33722015e+02 5.35746353e+01\n",
      "  1.96369181e+01 3.57093087e+02 5.95510886e+01 1.04587933e+01\n",
      "  4.16217286e+01 3.05183321e+03 7.15039953e+01]\n",
      " [7.97259732e+00 1.43580383e+00 2.31119419e+00 1.46443809e+00\n",
      "  1.05946778e+00 3.09659116e+00 3.02705080e-01 4.71238179e+00\n",
      "  8.38574885e-01 7.56762701e+00 1.46443809e+00 3.29703101e+00\n",
      "  1.67273191e+02 1.48080053e+00 4.47921707e+00 1.02674291e+00\n",
      "  3.76336046e-01 6.84358918e+00 1.14127996e+00 2.00439850e-01\n",
      "  7.97668793e-01 5.84875302e+01 1.37035408e+00]\n",
      " [1.40020526e+00 2.52166263e-01 4.05908658e-01 2.57195220e-01\n",
      "  1.86071402e-01 5.43845759e-01 5.31632578e-02 8.27622608e-01\n",
      "  1.47276593e-01 1.32908145e+00 2.57195220e-01 5.79048457e-01\n",
      "  2.93777289e+01 2.60068910e-01 7.86672531e-01 1.80324023e-01\n",
      "  6.60948611e-02 1.20192068e+00 2.00439850e-01 3.52026977e-02\n",
      "  1.40092369e-01 1.02720035e+01 2.40671505e-01]\n",
      " [5.57224544e+00 1.00351880e+00 1.61535078e+00 1.02353200e+00\n",
      "  7.40488234e-01 2.16428414e+00 2.11568067e-01 3.29360018e+00\n",
      "  5.86100726e-01 5.28920167e+00 1.02353200e+00 2.30437651e+00\n",
      "  1.16911370e+02 1.03496811e+00 3.13063558e+00 7.17616011e-01\n",
      "  2.63030570e-01 4.78315373e+00 7.97668793e-01 1.40092369e-01\n",
      "  5.57510446e-01 4.08783814e+01 9.57774357e-01]\n",
      " [4.08574181e+02 7.35810864e+01 1.18442490e+02 7.50485155e+01\n",
      "  5.42948757e+01 1.58691973e+02 1.55128216e+01 2.41496899e+02\n",
      "  4.29747086e+01 3.87820541e+02 7.50485155e+01 1.68963976e+02\n",
      "  8.57230139e+03 7.58870464e+01 2.29547834e+02 5.26178139e+01\n",
      "  1.92862107e+01 3.50715549e+02 5.84875302e+01 1.02720035e+01\n",
      "  4.08783814e+01 2.99732870e+03 7.02269628e+01]\n",
      " [8.70413313e+01 1.56754783e+01 2.52326076e+01 1.59880947e+01\n",
      "  1.15668060e+01 3.38072282e+01 3.30480170e+00 5.14477238e+01\n",
      "  9.15519390e+00 8.26200425e+01 1.59880947e+01 3.59955428e+01\n",
      "  1.82621556e+03 1.61667326e+01 4.89021333e+01 1.12095301e+01\n",
      "  4.10867238e+00 7.47153141e+01 1.24599956e+01 2.18831464e+00\n",
      "  8.70859908e+00 6.38541280e+02 1.49609266e+01]\n",
      " [5.71512352e-02 1.02925005e-02 1.65677003e-02 1.04977641e-02\n",
      "  7.59475112e-03 2.21977861e-02 2.16992889e-03 3.37805146e-02\n",
      "  6.01128949e-03 5.42482223e-02 1.04977641e-02 2.36346309e-02\n",
      "  1.19909098e+00 1.06150575e-02 3.21090829e-02 7.36016421e-03\n",
      "  2.69774943e-03 4.90579870e-02 8.18121839e-03 1.43684481e-03\n",
      "  5.71805586e-03 4.19265450e-01 9.82332674e-03]\n",
      " [9.57283190e+00 1.72399384e+00 2.77508980e+00 1.75837549e+00\n",
      "  1.27212081e+00 3.71812917e+00 3.63463089e-01 5.65823620e+00\n",
      "  1.00689099e+00 9.08657723e+00 1.75837549e+00 3.95880067e+00\n",
      "  2.00847738e+02 1.77802214e+00 5.37827139e+00 1.23282751e+00\n",
      "  4.51873030e-01 8.21721281e+00 1.37035408e+00 2.40671505e-01\n",
      "  9.57774357e-01 7.02269628e+01 1.64540723e+00]]\n",
      "Se rechaza la hipótesis nula. Las variables tienen una relación significativa.\n"
     ]
    }
   ],
   "source": [
    "contingency_table = pd.crosstab(df['Emp-O'], df['OPERA'])\n",
    "\n",
    "chi2, p, dof, expected = chi2_contingency(contingency_table)\n",
    "\n",
    "print(f\"Chi2 value: {chi2}\")\n",
    "print(f\"P-value: {p}\")\n",
    "print(f\"Degrees of freedom: {dof}\")\n",
    "print(\"Expected frequency table:\")\n",
    "print(expected)\n",
    "\n",
    "alpha = 0.05  \n",
    "if p < alpha:\n",
    "    print(\"Se rechaza la hipótesis nula. Las variables tienen una relación significativa.\")\n",
    "else:\n",
    "    print(\"No se rechaza la hipótesis nula. Las variables son independientes.\")"
   ]
  },
  {
   "cell_type": "code",
   "execution_count": 30,
   "id": "fb325321",
   "metadata": {},
   "outputs": [
    {
     "name": "stdout",
     "output_type": "stream",
     "text": [
      "Set de Figuras 3\n"
     ]
    },
    {
     "data": {
      "image/png": "[encoded data removed]",
      "text/plain": [
       "<Figure size 720x360 with 2 Axes>"
      ]
     },
     "metadata": {
      "needs_background": "light"
     },
     "output_type": "display_data"
    }
   ],
   "source": [
    "print(\"Set de Figuras 3\")\n",
    "fig, axes = plt.subplots(nrows=1, ncols=2, figsize=(10, 5))\n",
    "\n",
    "variables = ['Emp-O','OPERA']\n",
    "\n",
    "for ax, variable in zip(axes.flatten(), variables):\n",
    "    sns.boxplot(x=variable, y='delay_15', data=df, ax=ax)\n",
    "    ax.set_title(f'Distribución de atrasos por {variable}')\n",
    "    ax.tick_params(axis='x', rotation=45)  \n",
    "\n",
    "plt.tight_layout()\n",
    "plt.show()"
   ]
  },
  {
   "cell_type": "code",
   "execution_count": 31,
   "id": "f616c70d",
   "metadata": {},
   "outputs": [],
   "source": [
    "df['opera_comp'] = df['Emp-O'] + df['OPERA']"
   ]
  },
  {
   "cell_type": "markdown",
   "id": "4fb20677",
   "metadata": {},
   "source": [
    "Se excluyen las variables que no se usarán directamente en el modelo. La justificación de cada una está a continuación:\n",
    "- Ori-I, Ori-O, AÑO y SIGLAORI tienen un único valor\n",
    "- Fecha-I, Fecha-O y min_diff fueron utilizadas para crear la variable dependiente\n",
    "- Vlo-O tiene el mismo valor que Vlo-I en más del 97% de los casos, por ende, se usará solo Vlo-I\n",
    "- Des-I y SIGLADES se utilizaron para crear la variable compuesta des_comp\n",
    "- Des-O tiene el mismo valor que Des-I en casi el 100% de los casos"
   ]
  },
  {
   "cell_type": "code",
   "execution_count": 32,
   "id": "8260aa27",
   "metadata": {},
   "outputs": [],
   "source": [
    "excluir = ['Ori-I', 'Fecha-I', 'Fecha-O', 'Vlo-O', 'Ori-O', 'Des-O', 'AÑO', 'SIGLAORI', 'min_diff', 'SIGLADES', 'Emp-O', 'OPERA', 'Des-I']\n",
    "data = df.drop(columns=excluir)"
   ]
  },
  {
   "cell_type": "markdown",
   "id": "86a28cd2",
   "metadata": {},
   "source": [
    "Solamente se categorizarán de manera numérica las variables que tienen algún tipo de orden: día de la semana y momento del día. El resto se transformará a binaria. En particular para TIPOVUELO, se hizo una transformación directa ya que tiene solo dos posibles valores."
   ]
  },
  {
   "cell_type": "code",
   "execution_count": 33,
   "id": "6725a463",
   "metadata": {},
   "outputs": [],
   "source": [
    "data['DIANOM'] = data['DIANOM'].replace({\n",
    "    \"Lunes\": 1,\n",
    "    \"Martes\": 2,\n",
    "    \"Miercoles\": 3,\n",
    "    \"Jueves\": 4,\n",
    "    \"Viernes\": 5,\n",
    "    \"Sabado\": 6,\n",
    "    \"Domingo\": 7\n",
    "})\n",
    "\n",
    "data['period_day'] = data['period_day'].replace({\n",
    "    \"morning\": 1,\n",
    "    \"afternoon\": 2,\n",
    "    \"night\": 3\n",
    "})\n",
    "\n",
    "data['TIPOVUELO'] = data['TIPOVUELO'].replace({\n",
    "    \"N\": 0,\n",
    "    \"I\": 1\n",
    "})"
   ]
  },
  {
   "cell_type": "code",
   "execution_count": 34,
   "id": "b4990a81",
   "metadata": {},
   "outputs": [],
   "source": [
    "data = pd.get_dummies(data, columns=['Emp-I','opera_comp', 'des_comp', 'Vlo-I'])"
   ]
  },
  {
   "cell_type": "markdown",
   "id": "838e5a89",
   "metadata": {},
   "source": [
    "Se puede ver que la data está desbalanceada. "
   ]
  },
  {
   "cell_type": "code",
   "execution_count": 35,
   "id": "591f776f",
   "metadata": {},
   "outputs": [
    {
     "data": {
      "text/plain": [
       "0    55591\n",
       "1    12614\n",
       "Name: delay_15, dtype: int64"
      ]
     },
     "execution_count": 35,
     "metadata": {},
     "output_type": "execute_result"
    }
   ],
   "source": [
    "data['delay_15'].value_counts()"
   ]
  },
  {
   "cell_type": "markdown",
   "id": "b5e4966f",
   "metadata": {},
   "source": [
    "No se ven correlaciones fuertes con la variable dependiente que puedan sesgar el modelo más adelante. "
   ]
  },
  {
   "cell_type": "code",
   "execution_count": 36,
   "id": "e384a3e2",
   "metadata": {},
   "outputs": [
    {
     "data": {
      "text/plain": [
       "delay_15                         1.000000\n",
       "historial_atrasos_vuelo          0.235177\n",
       "historial_atrasos_opera          0.212017\n",
       "historial_atrasos_destino        0.199520\n",
       "atrasos_1h                       0.195898\n",
       "                                   ...   \n",
       "des_comp_SCCFCalama             -0.046120\n",
       "Emp-I_CMP                       -0.052571\n",
       "opera_comp_CMPCopa Air          -0.052571\n",
       "des_comp_MPTOCiudad de Panama   -0.052571\n",
       "opera_comp_LXPGrupo LATAM       -0.057547\n",
       "Name: delay_15, Length: 906, dtype: float64"
      ]
     },
     "execution_count": 36,
     "metadata": {},
     "output_type": "execute_result"
    }
   ],
   "source": [
    "data.corr()['delay_15'].sort_values(ascending=False)"
   ]
  },
  {
   "cell_type": "markdown",
   "id": "f31f0ec4",
   "metadata": {},
   "source": [
    "#### 4.3. Entrenamiento"
   ]
  },
  {
   "cell_type": "markdown",
   "id": "d3109365",
   "metadata": {},
   "source": [
    "Se utilizará el metodo SMOTE para el balance de las clases."
   ]
  },
  {
   "cell_type": "code",
   "execution_count": 38,
   "id": "51b94757",
   "metadata": {},
   "outputs": [],
   "source": [
    "# Dividir en entrenamiento y prueba\n",
    "X = data.drop('delay_15', axis=1)\n",
    "y = data['delay_15']\n",
    "\n",
    "\n",
    "X_train, X_test, y_train, y_test = train_test_split(X, y, test_size=0.2)\n",
    "scaler = StandardScaler()\n",
    "X_train = scaler.fit_transform(X_train)\n",
    "X_test = scaler.transform(X_test)\n",
    "\n",
    "# Smote para tratar el desbalance de clases\n",
    "smote = SMOTE(random_state=42)\n",
    "\n",
    "X_res, y_res = smote.fit_resample(X_train, y_train)"
   ]
  },
  {
   "cell_type": "markdown",
   "id": "85c55dcc",
   "metadata": {},
   "source": [
    " **Random Forest**"
   ]
  },
  {
   "cell_type": "code",
   "execution_count": 39,
   "id": "abc39e20",
   "metadata": {},
   "outputs": [
    {
     "data": {
      "text/html": [
       "<style>#sk-container-id-1 {color: black;}#sk-container-id-1 pre{padding: 0;}#sk-container-id-1 div.sk-toggleable {background-color: white;}#sk-container-id-1 label.sk-toggleable__label {cursor: pointer;display: block;width: 100%;margin-bottom: 0;padding: 0.3em;box-sizing: border-box;text-align: center;}#sk-container-id-1 label.sk-toggleable__label-arrow:before {content: \"▸\";float: left;margin-right: 0.25em;color: #696969;}#sk-container-id-1 label.sk-toggleable__label-arrow:hover:before {color: black;}#sk-container-id-1 div.sk-estimator:hover label.sk-toggleable__label-arrow:before {color: black;}#sk-container-id-1 div.sk-toggleable__content {max-height: 0;max-width: 0;overflow: hidden;text-align: left;background-color: #f0f8ff;}#sk-container-id-1 div.sk-toggleable__content pre {margin: 0.2em;color: black;border-radius: 0.25em;background-color: #f0f8ff;}#sk-container-id-1 input.sk-toggleable__control:checked~div.sk-toggleable__content {max-height: 200px;max-width: 100%;overflow: auto;}#sk-container-id-1 input.sk-toggleable__control:checked~label.sk-toggleable__label-arrow:before {content: \"▾\";}#sk-container-id-1 div.sk-estimator input.sk-toggleable__control:checked~label.sk-toggleable__label {background-color: #d4ebff;}#sk-container-id-1 div.sk-label input.sk-toggleable__control:checked~label.sk-toggleable__label {background-color: #d4ebff;}#sk-container-id-1 input.sk-hidden--visually {border: 0;clip: rect(1px 1px 1px 1px);clip: rect(1px, 1px, 1px, 1px);height: 1px;margin: -1px;overflow: hidden;padding: 0;position: absolute;width: 1px;}#sk-container-id-1 div.sk-estimator {font-family: monospace;background-color: #f0f8ff;border: 1px dotted black;border-radius: 0.25em;box-sizing: border-box;margin-bottom: 0.5em;}#sk-container-id-1 div.sk-estimator:hover {background-color: #d4ebff;}#sk-container-id-1 div.sk-parallel-item::after {content: \"\";width: 100%;border-bottom: 1px solid gray;flex-grow: 1;}#sk-container-id-1 div.sk-label:hover label.sk-toggleable__label {background-color: #d4ebff;}#sk-container-id-1 div.sk-serial::before {content: \"\";position: absolute;border-left: 1px solid gray;box-sizing: border-box;top: 0;bottom: 0;left: 50%;z-index: 0;}#sk-container-id-1 div.sk-serial {display: flex;flex-direction: column;align-items: center;background-color: white;padding-right: 0.2em;padding-left: 0.2em;position: relative;}#sk-container-id-1 div.sk-item {position: relative;z-index: 1;}#sk-container-id-1 div.sk-parallel {display: flex;align-items: stretch;justify-content: center;background-color: white;position: relative;}#sk-container-id-1 div.sk-item::before, #sk-container-id-1 div.sk-parallel-item::before {content: \"\";position: absolute;border-left: 1px solid gray;box-sizing: border-box;top: 0;bottom: 0;left: 50%;z-index: -1;}#sk-container-id-1 div.sk-parallel-item {display: flex;flex-direction: column;z-index: 1;position: relative;background-color: white;}#sk-container-id-1 div.sk-parallel-item:first-child::after {align-self: flex-end;width: 50%;}#sk-container-id-1 div.sk-parallel-item:last-child::after {align-self: flex-start;width: 50%;}#sk-container-id-1 div.sk-parallel-item:only-child::after {width: 0;}#sk-container-id-1 div.sk-dashed-wrapped {border: 1px dashed gray;margin: 0 0.4em 0.5em 0.4em;box-sizing: border-box;padding-bottom: 0.4em;background-color: white;}#sk-container-id-1 div.sk-label label {font-family: monospace;font-weight: bold;display: inline-block;line-height: 1.2em;}#sk-container-id-1 div.sk-label-container {text-align: center;}#sk-container-id-1 div.sk-container {/* jupyter's `normalize.less` sets `[hidden] { display: none; }` but bootstrap.min.css set `[hidden] { display: none !important; }` so we also need the `!important` here to be able to override the default hidden behavior on the sphinx rendered scikit-learn.org. See: https://github.com/scikit-learn/scikit-learn/issues/21755 */display: inline-block !important;position: relative;}#sk-container-id-1 div.sk-text-repr-fallback {display: none;}</style><div id=\"sk-container-id-1\" class=\"sk-top-container\"><div class=\"sk-text-repr-fallback\"><pre>RandomForestClassifier(random_state=42)</pre><b>In a Jupyter environment, please rerun this cell to show the HTML representation or trust the notebook. <br />On GitHub, the HTML representation is unable to render, please try loading this page with nbviewer.org.</b></div><div class=\"sk-container\" hidden><div class=\"sk-item\"><div class=\"sk-estimator sk-toggleable\"><input class=\"sk-toggleable__control sk-hidden--visually\" id=\"sk-estimator-id-1\" type=\"checkbox\" checked><label for=\"sk-estimator-id-1\" class=\"sk-toggleable__label sk-toggleable__label-arrow\">RandomForestClassifier</label><div class=\"sk-toggleable__content\"><pre>RandomForestClassifier(random_state=42)</pre></div></div></div></div></div>"
      ],
      "text/plain": [
       "RandomForestClassifier(random_state=42)"
      ]
     },
     "execution_count": 39,
     "metadata": {},
     "output_type": "execute_result"
    }
   ],
   "source": [
    "rf = RandomForestClassifier(random_state=42)\n",
    "rf.fit(X_res, y_res)"
   ]
  },
  {
   "cell_type": "markdown",
   "id": "bdf96732",
   "metadata": {},
   "source": [
    "**Logistic Regression**"
   ]
  },
  {
   "cell_type": "code",
   "execution_count": 41,
   "id": "e528ec2d",
   "metadata": {},
   "outputs": [
    {
     "data": {
      "text/html": [
       "<style>#sk-container-id-3 {color: black;}#sk-container-id-3 pre{padding: 0;}#sk-container-id-3 div.sk-toggleable {background-color: white;}#sk-container-id-3 label.sk-toggleable__label {cursor: pointer;display: block;width: 100%;margin-bottom: 0;padding: 0.3em;box-sizing: border-box;text-align: center;}#sk-container-id-3 label.sk-toggleable__label-arrow:before {content: \"▸\";float: left;margin-right: 0.25em;color: #696969;}#sk-container-id-3 label.sk-toggleable__label-arrow:hover:before {color: black;}#sk-container-id-3 div.sk-estimator:hover label.sk-toggleable__label-arrow:before {color: black;}#sk-container-id-3 div.sk-toggleable__content {max-height: 0;max-width: 0;overflow: hidden;text-align: left;background-color: #f0f8ff;}#sk-container-id-3 div.sk-toggleable__content pre {margin: 0.2em;color: black;border-radius: 0.25em;background-color: #f0f8ff;}#sk-container-id-3 input.sk-toggleable__control:checked~div.sk-toggleable__content {max-height: 200px;max-width: 100%;overflow: auto;}#sk-container-id-3 input.sk-toggleable__control:checked~label.sk-toggleable__label-arrow:before {content: \"▾\";}#sk-container-id-3 div.sk-estimator input.sk-toggleable__control:checked~label.sk-toggleable__label {background-color: #d4ebff;}#sk-container-id-3 div.sk-label input.sk-toggleable__control:checked~label.sk-toggleable__label {background-color: #d4ebff;}#sk-container-id-3 input.sk-hidden--visually {border: 0;clip: rect(1px 1px 1px 1px);clip: rect(1px, 1px, 1px, 1px);height: 1px;margin: -1px;overflow: hidden;padding: 0;position: absolute;width: 1px;}#sk-container-id-3 div.sk-estimator {font-family: monospace;background-color: #f0f8ff;border: 1px dotted black;border-radius: 0.25em;box-sizing: border-box;margin-bottom: 0.5em;}#sk-container-id-3 div.sk-estimator:hover {background-color: #d4ebff;}#sk-container-id-3 div.sk-parallel-item::after {content: \"\";width: 100%;border-bottom: 1px solid gray;flex-grow: 1;}#sk-container-id-3 div.sk-label:hover label.sk-toggleable__label {background-color: #d4ebff;}#sk-container-id-3 div.sk-serial::before {content: \"\";position: absolute;border-left: 1px solid gray;box-sizing: border-box;top: 0;bottom: 0;left: 50%;z-index: 0;}#sk-container-id-3 div.sk-serial {display: flex;flex-direction: column;align-items: center;background-color: white;padding-right: 0.2em;padding-left: 0.2em;position: relative;}#sk-container-id-3 div.sk-item {position: relative;z-index: 1;}#sk-container-id-3 div.sk-parallel {display: flex;align-items: stretch;justify-content: center;background-color: white;position: relative;}#sk-container-id-3 div.sk-item::before, #sk-container-id-3 div.sk-parallel-item::before {content: \"\";position: absolute;border-left: 1px solid gray;box-sizing: border-box;top: 0;bottom: 0;left: 50%;z-index: -1;}#sk-container-id-3 div.sk-parallel-item {display: flex;flex-direction: column;z-index: 1;position: relative;background-color: white;}#sk-container-id-3 div.sk-parallel-item:first-child::after {align-self: flex-end;width: 50%;}#sk-container-id-3 div.sk-parallel-item:last-child::after {align-self: flex-start;width: 50%;}#sk-container-id-3 div.sk-parallel-item:only-child::after {width: 0;}#sk-container-id-3 div.sk-dashed-wrapped {border: 1px dashed gray;margin: 0 0.4em 0.5em 0.4em;box-sizing: border-box;padding-bottom: 0.4em;background-color: white;}#sk-container-id-3 div.sk-label label {font-family: monospace;font-weight: bold;display: inline-block;line-height: 1.2em;}#sk-container-id-3 div.sk-label-container {text-align: center;}#sk-container-id-3 div.sk-container {/* jupyter's `normalize.less` sets `[hidden] { display: none; }` but bootstrap.min.css set `[hidden] { display: none !important; }` so we also need the `!important` here to be able to override the default hidden behavior on the sphinx rendered scikit-learn.org. See: https://github.com/scikit-learn/scikit-learn/issues/21755 */display: inline-block !important;position: relative;}#sk-container-id-3 div.sk-text-repr-fallback {display: none;}</style><div id=\"sk-container-id-3\" class=\"sk-top-container\"><div class=\"sk-text-repr-fallback\"><pre>LogisticRegression()</pre><b>In a Jupyter environment, please rerun this cell to show the HTML representation or trust the notebook. <br />On GitHub, the HTML representation is unable to render, please try loading this page with nbviewer.org.</b></div><div class=\"sk-container\" hidden><div class=\"sk-item\"><div class=\"sk-estimator sk-toggleable\"><input class=\"sk-toggleable__control sk-hidden--visually\" id=\"sk-estimator-id-3\" type=\"checkbox\" checked><label for=\"sk-estimator-id-3\" class=\"sk-toggleable__label sk-toggleable__label-arrow\">LogisticRegression</label><div class=\"sk-toggleable__content\"><pre>LogisticRegression()</pre></div></div></div></div></div>"
      ],
      "text/plain": [
       "LogisticRegression()"
      ]
     },
     "execution_count": 41,
     "metadata": {},
     "output_type": "execute_result"
    }
   ],
   "source": [
    "logreg = LogisticRegression()\n",
    "logreg.fit(X_res, y_res)"
   ]
  },
  {
   "cell_type": "markdown",
   "id": "9f104705",
   "metadata": {},
   "source": [
    "**LightGBM**"
   ]
  },
  {
   "cell_type": "code",
   "execution_count": 42,
   "id": "46d26725",
   "metadata": {},
   "outputs": [
    {
     "name": "stdout",
     "output_type": "stream",
     "text": [
      "[LightGBM] [Info] Number of positive: 44461, number of negative: 44461\n",
      "[LightGBM] [Warning] Auto-choosing row-wise multi-threading, the overhead of testing was 0.145063 seconds.\n",
      "You can set `force_row_wise=true` to remove the overhead.\n",
      "And if memory is not enough, you can set `force_col_wise=true`.\n",
      "[LightGBM] [Info] Total Bins 7265\n",
      "[LightGBM] [Info] Number of data points in the train set: 88922, number of used features: 564\n",
      "[LightGBM] [Info] [binary:BoostFromScore]: pavg=0.500000 -> initscore=0.000000\n"
     ]
    }
   ],
   "source": [
    "train_data = lgb.Dataset(X_res, label=y_res)\n",
    "params = {\n",
    "    'objective': 'binary',\n",
    "    'metric': 'binary_error',\n",
    "    'boosting_type': 'gbdt',\n",
    "    'num_leaves': 31,\n",
    "    'learning_rate': 0.05,\n",
    "    'feature_fraction': 0.9\n",
    "}\n",
    "\n",
    "num_round = 100\n",
    "bst = lgb.train(params, train_data, num_round)"
   ]
  },
  {
   "cell_type": "markdown",
   "id": "b2fbd122",
   "metadata": {},
   "source": [
    "**Decision Tree**"
   ]
  },
  {
   "cell_type": "code",
   "execution_count": 43,
   "id": "de32e835",
   "metadata": {},
   "outputs": [
    {
     "data": {
      "text/html": [
       "<style>#sk-container-id-4 {color: black;}#sk-container-id-4 pre{padding: 0;}#sk-container-id-4 div.sk-toggleable {background-color: white;}#sk-container-id-4 label.sk-toggleable__label {cursor: pointer;display: block;width: 100%;margin-bottom: 0;padding: 0.3em;box-sizing: border-box;text-align: center;}#sk-container-id-4 label.sk-toggleable__label-arrow:before {content: \"▸\";float: left;margin-right: 0.25em;color: #696969;}#sk-container-id-4 label.sk-toggleable__label-arrow:hover:before {color: black;}#sk-container-id-4 div.sk-estimator:hover label.sk-toggleable__label-arrow:before {color: black;}#sk-container-id-4 div.sk-toggleable__content {max-height: 0;max-width: 0;overflow: hidden;text-align: left;background-color: #f0f8ff;}#sk-container-id-4 div.sk-toggleable__content pre {margin: 0.2em;color: black;border-radius: 0.25em;background-color: #f0f8ff;}#sk-container-id-4 input.sk-toggleable__control:checked~div.sk-toggleable__content {max-height: 200px;max-width: 100%;overflow: auto;}#sk-container-id-4 input.sk-toggleable__control:checked~label.sk-toggleable__label-arrow:before {content: \"▾\";}#sk-container-id-4 div.sk-estimator input.sk-toggleable__control:checked~label.sk-toggleable__label {background-color: #d4ebff;}#sk-container-id-4 div.sk-label input.sk-toggleable__control:checked~label.sk-toggleable__label {background-color: #d4ebff;}#sk-container-id-4 input.sk-hidden--visually {border: 0;clip: rect(1px 1px 1px 1px);clip: rect(1px, 1px, 1px, 1px);height: 1px;margin: -1px;overflow: hidden;padding: 0;position: absolute;width: 1px;}#sk-container-id-4 div.sk-estimator {font-family: monospace;background-color: #f0f8ff;border: 1px dotted black;border-radius: 0.25em;box-sizing: border-box;margin-bottom: 0.5em;}#sk-container-id-4 div.sk-estimator:hover {background-color: #d4ebff;}#sk-container-id-4 div.sk-parallel-item::after {content: \"\";width: 100%;border-bottom: 1px solid gray;flex-grow: 1;}#sk-container-id-4 div.sk-label:hover label.sk-toggleable__label {background-color: #d4ebff;}#sk-container-id-4 div.sk-serial::before {content: \"\";position: absolute;border-left: 1px solid gray;box-sizing: border-box;top: 0;bottom: 0;left: 50%;z-index: 0;}#sk-container-id-4 div.sk-serial {display: flex;flex-direction: column;align-items: center;background-color: white;padding-right: 0.2em;padding-left: 0.2em;position: relative;}#sk-container-id-4 div.sk-item {position: relative;z-index: 1;}#sk-container-id-4 div.sk-parallel {display: flex;align-items: stretch;justify-content: center;background-color: white;position: relative;}#sk-container-id-4 div.sk-item::before, #sk-container-id-4 div.sk-parallel-item::before {content: \"\";position: absolute;border-left: 1px solid gray;box-sizing: border-box;top: 0;bottom: 0;left: 50%;z-index: -1;}#sk-container-id-4 div.sk-parallel-item {display: flex;flex-direction: column;z-index: 1;position: relative;background-color: white;}#sk-container-id-4 div.sk-parallel-item:first-child::after {align-self: flex-end;width: 50%;}#sk-container-id-4 div.sk-parallel-item:last-child::after {align-self: flex-start;width: 50%;}#sk-container-id-4 div.sk-parallel-item:only-child::after {width: 0;}#sk-container-id-4 div.sk-dashed-wrapped {border: 1px dashed gray;margin: 0 0.4em 0.5em 0.4em;box-sizing: border-box;padding-bottom: 0.4em;background-color: white;}#sk-container-id-4 div.sk-label label {font-family: monospace;font-weight: bold;display: inline-block;line-height: 1.2em;}#sk-container-id-4 div.sk-label-container {text-align: center;}#sk-container-id-4 div.sk-container {/* jupyter's `normalize.less` sets `[hidden] { display: none; }` but bootstrap.min.css set `[hidden] { display: none !important; }` so we also need the `!important` here to be able to override the default hidden behavior on the sphinx rendered scikit-learn.org. See: https://github.com/scikit-learn/scikit-learn/issues/21755 */display: inline-block !important;position: relative;}#sk-container-id-4 div.sk-text-repr-fallback {display: none;}</style><div id=\"sk-container-id-4\" class=\"sk-top-container\"><div class=\"sk-text-repr-fallback\"><pre>DecisionTreeClassifier()</pre><b>In a Jupyter environment, please rerun this cell to show the HTML representation or trust the notebook. <br />On GitHub, the HTML representation is unable to render, please try loading this page with nbviewer.org.</b></div><div class=\"sk-container\" hidden><div class=\"sk-item\"><div class=\"sk-estimator sk-toggleable\"><input class=\"sk-toggleable__control sk-hidden--visually\" id=\"sk-estimator-id-4\" type=\"checkbox\" checked><label for=\"sk-estimator-id-4\" class=\"sk-toggleable__label sk-toggleable__label-arrow\">DecisionTreeClassifier</label><div class=\"sk-toggleable__content\"><pre>DecisionTreeClassifier()</pre></div></div></div></div></div>"
      ],
      "text/plain": [
       "DecisionTreeClassifier()"
      ]
     },
     "execution_count": 43,
     "metadata": {},
     "output_type": "execute_result"
    }
   ],
   "source": [
    "tree = DecisionTreeClassifier()\n",
    "tree.fit(X_res, y_res)"
   ]
  },
  {
   "cell_type": "markdown",
   "id": "d1a08a63",
   "metadata": {},
   "source": [
    "## 5. Evaluación"
   ]
  },
  {
   "cell_type": "markdown",
   "id": "72f43e95",
   "metadata": {},
   "source": [
    "#### 5.1. Elección de modelo"
   ]
  },
  {
   "cell_type": "markdown",
   "id": "03a45004",
   "metadata": {},
   "source": [
    "Para evaluar el modelo se analizará el **f1-score y la matriz de confusión**. Como se trata de un problema con **clases desbalanceadas**, el accuracy no es la métrica ideal porque no distingue tipo de error específico (falsos positivos, falsos negativos). La precisión y el recall sí los consideran, y el f1 score combina ambas en una sola métrica (media armónica). "
   ]
  },
  {
   "cell_type": "markdown",
   "id": "c56b0e92",
   "metadata": {},
   "source": [
    "**Random Forest**"
   ]
  },
  {
   "cell_type": "code",
   "execution_count": 44,
   "id": "777e6995",
   "metadata": {},
   "outputs": [
    {
     "name": "stdout",
     "output_type": "stream",
     "text": [
      "              precision    recall  f1-score   support\n",
      "\n",
      "           0       0.85      0.92      0.88     11130\n",
      "           1       0.45      0.29      0.35      2511\n",
      "\n",
      "    accuracy                           0.80     13641\n",
      "   macro avg       0.65      0.60      0.62     13641\n",
      "weighted avg       0.78      0.80      0.79     13641\n",
      "\n"
     ]
    },
    {
     "data": {
      "image/png": "[encoded data removed]",
      "text/plain": [
       "<Figure size 432x288 with 2 Axes>"
      ]
     },
     "metadata": {
      "needs_background": "light"
     },
     "output_type": "display_data"
    }
   ],
   "source": [
    "y_pred = rf.predict(X_test)\n",
    "print(classification_report(y_test, y_pred))\n",
    "\n",
    "disp = ConfusionMatrixDisplay(confusion_matrix=confusion_matrix(y_test, y_pred), display_labels=rf.classes_)\n",
    "disp.plot(cmap=plt.cm.Blues)\n",
    "plt.show()"
   ]
  },
  {
   "cell_type": "markdown",
   "id": "78a6cc9a",
   "metadata": {},
   "source": [
    "**Logistic Regression**"
   ]
  },
  {
   "cell_type": "code",
   "execution_count": 45,
   "id": "0b423f99",
   "metadata": {},
   "outputs": [
    {
     "name": "stdout",
     "output_type": "stream",
     "text": [
      "              precision    recall  f1-score   support\n",
      "\n",
      "           0       0.89      0.70      0.79     11130\n",
      "           1       0.32      0.61      0.42      2511\n",
      "\n",
      "    accuracy                           0.69     13641\n",
      "   macro avg       0.60      0.66      0.60     13641\n",
      "weighted avg       0.78      0.69      0.72     13641\n",
      "\n"
     ]
    },
    {
     "data": {
      "image/png": "[encoded data removed]",
      "text/plain": [
       "<Figure size 432x288 with 2 Axes>"
      ]
     },
     "metadata": {
      "needs_background": "light"
     },
     "output_type": "display_data"
    }
   ],
   "source": [
    "y_pred = logreg.predict(X_test)\n",
    "print(classification_report(y_test, y_pred))\n",
    "\n",
    "disp = ConfusionMatrixDisplay(confusion_matrix=confusion_matrix(y_test, y_pred), display_labels=rf.classes_)\n",
    "disp.plot(cmap=plt.cm.Blues)\n",
    "plt.show()"
   ]
  },
  {
   "cell_type": "markdown",
   "id": "6f993177",
   "metadata": {},
   "source": [
    "**LightGBM**"
   ]
  },
  {
   "cell_type": "code",
   "execution_count": 46,
   "id": "4102f815",
   "metadata": {},
   "outputs": [
    {
     "name": "stdout",
     "output_type": "stream",
     "text": [
      "              precision    recall  f1-score   support\n",
      "\n",
      "           0       0.84      0.97      0.90     11130\n",
      "           1       0.58      0.16      0.25      2511\n",
      "\n",
      "    accuracy                           0.82     13641\n",
      "   macro avg       0.71      0.57      0.58     13641\n",
      "weighted avg       0.79      0.82      0.78     13641\n",
      "\n"
     ]
    },
    {
     "data": {
      "image/png": "[encoded data removed]",
      "text/plain": [
       "<Figure size 432x288 with 2 Axes>"
      ]
     },
     "metadata": {
      "needs_background": "light"
     },
     "output_type": "display_data"
    }
   ],
   "source": [
    "y_pred = bst.predict(X_test, num_iteration=bst.best_iteration)\n",
    "y_pred = [1 if p >= 0.5 else 0 for p in y_pred]\n",
    "print(classification_report(y_test, y_pred))\n",
    "\n",
    "disp = ConfusionMatrixDisplay(confusion_matrix=confusion_matrix(y_test, y_pred), display_labels=rf.classes_)\n",
    "disp.plot(cmap=plt.cm.Blues)\n",
    "plt.show()"
   ]
  },
  {
   "cell_type": "markdown",
   "id": "1f3bf20f",
   "metadata": {},
   "source": [
    "**Decision Tree**"
   ]
  },
  {
   "cell_type": "code",
   "execution_count": 47,
   "id": "8f92d07d",
   "metadata": {},
   "outputs": [
    {
     "name": "stdout",
     "output_type": "stream",
     "text": [
      "              precision    recall  f1-score   support\n",
      "\n",
      "           0       0.84      0.83      0.84     11130\n",
      "           1       0.29      0.30      0.29      2511\n",
      "\n",
      "    accuracy                           0.73     13641\n",
      "   macro avg       0.56      0.56      0.56     13641\n",
      "weighted avg       0.74      0.73      0.74     13641\n",
      "\n"
     ]
    },
    {
     "data": {
      "image/png": "[encoded data removed]",
      "text/plain": [
       "<Figure size 432x288 with 2 Axes>"
      ]
     },
     "metadata": {
      "needs_background": "light"
     },
     "output_type": "display_data"
    }
   ],
   "source": [
    "y_pred = tree.predict(X_test)\n",
    "print(classification_report(y_test, y_pred))\n",
    "\n",
    "disp = ConfusionMatrixDisplay(confusion_matrix=confusion_matrix(y_test, y_pred), display_labels=rf.classes_)\n",
    "disp.plot(cmap=plt.cm.Blues)\n",
    "plt.show()"
   ]
  },
  {
   "cell_type": "markdown",
   "id": "ca10dbe6",
   "metadata": {},
   "source": [
    "A priori, el modelo con mejor desempeño corresponde al **Random Forest**, seguido de **Decision Tree**\\*. Se testearán ambos modelos usando **cross validation** para comprobar si el desempeño del primero es consistentemente mejor.\n",
    "\n",
    "*Se podría pensar que LightGBM es mejor debido al accuracy, pero la métrica es el f1 score. Además, se busca lograr predecir los atrasos, y los resultados de la matriz de confusión de LightGBM muestran que el modelo está prediciendo la clase 0 (vuelo no atrasado) con demasiada frecuencia."
   ]
  },
  {
   "cell_type": "code",
   "execution_count": 48,
   "id": "f37455ca",
   "metadata": {},
   "outputs": [
    {
     "name": "stdout",
     "output_type": "stream",
     "text": [
      "Resultados Random Forest\n",
      "F1 score por fold:  [0.89710574 0.89306094 0.89714384 0.89714612 0.8987349 ]\n",
      "F1 score promedio:  0.8966383093666543\n",
      "Desviación estándar:  0.0018934180664611465\n"
     ]
    }
   ],
   "source": [
    "# AVISO: Dado que se está entrenando el modelo de Random Forest varias veces, este bloque se demora aprox. 7 minutos en ejecutar.\n",
    "\n",
    "skf = StratifiedKFold(n_splits=5, shuffle=True, random_state=42)\n",
    "\n",
    "scores = cross_val_score(rf, X_res, y_res, cv=skf, scoring='f1')\n",
    "\n",
    "print(\"Resultados Random Forest\")\n",
    "print(\"F1 score por fold: \", scores)\n",
    "print(\"F1 score promedio: \", scores.mean())\n",
    "print(\"Desviación estándar: \", scores.std())"
   ]
  },
  {
   "cell_type": "code",
   "execution_count": 49,
   "id": "b29f9e5b",
   "metadata": {},
   "outputs": [
    {
     "name": "stdout",
     "output_type": "stream",
     "text": [
      "Resultados Decision Tree\n",
      "F1 score por fold:  [0.82937535 0.82851333 0.82974648 0.83337071 0.82820225]\n",
      "F1 score promedio:  0.8298416238046379\n",
      "Desviación estándar:  0.0018510989902610008\n"
     ]
    }
   ],
   "source": [
    "scores = cross_val_score(tree, X_res, y_res, cv=skf, scoring='f1')\n",
    "\n",
    "print(\"Resultados Decision Tree\")\n",
    "print(\"F1 score por fold: \", scores)\n",
    "print(\"F1 score promedio: \", scores.mean())\n",
    "print(\"Desviación estándar: \", scores.std())"
   ]
  },
  {
   "cell_type": "markdown",
   "id": "6cd2556e",
   "metadata": {},
   "source": [
    "Finalmente, el **mejor modelo** es el de **Random Forest**. "
   ]
  },
  {
   "cell_type": "markdown",
   "id": "e1aa315e",
   "metadata": {},
   "source": [
    "#### 5.2. Observaciones"
   ]
  },
  {
   "cell_type": "markdown",
   "id": "bd6b58e8",
   "metadata": {},
   "source": [
    "Las 5 variables más importantes en el modelo resultan ser:\n",
    "- Cantidad de atrasos en la última hora\n",
    "- Promedio de atrasos de los últimos 15 días (historial) del número de vuelo, aerolínea que opera y de vuelos hacia el mismo destino\n",
    "- Día del mes\n",
    "- Día de la semana\n",
    "- Cantidad de vuelos programados en un intervalo de 30 minutos (+- 15 min)"
   ]
  },
  {
   "cell_type": "code",
   "execution_count": 50,
   "id": "99477afa",
   "metadata": {},
   "outputs": [
    {
     "name": "stdout",
     "output_type": "stream",
     "text": [
      "Figura 5\n"
     ]
    },
    {
     "data": {
      "image/png": "[encoded data removed]",
      "text/plain": [
       "<Figure size 720x720 with 1 Axes>"
      ]
     },
     "metadata": {
      "needs_background": "light"
     },
     "output_type": "display_data"
    }
   ],
   "source": [
    "importances = rf.feature_importances_\n",
    "features = X.columns\n",
    "\n",
    "sorted_idx = importances.argsort()\n",
    "\n",
    "# Seleccionar las 15 más importantes\n",
    "top_15 = sorted_idx[-15:]\n",
    "#bottom_10 = sorted_idx[:20] \n",
    "selected_idx = list(top_15)\n",
    "\n",
    "print(\"Figura 5\")\n",
    "plt.figure(figsize=(10, 10))\n",
    "plt.barh(features[selected_idx], importances[selected_idx])\n",
    "plt.xlabel(\"Importancia\")\n",
    "plt.title(\"Top 15 variables más importantes con Random Forest\")\n",
    "plt.show()"
   ]
  },
  {
   "cell_type": "markdown",
   "id": "36bca8c1",
   "metadata": {},
   "source": [
    "Por último, cabe mencionar que el modelo fue escogido de acuerdo a las métricas mencionadas. Sin embargo, **el mejor modelo podría depender de los objetivos que busca el problema** (más allá de la predicción del atraso). Por ejemplo, si la penalización por no predecir un atraso es mayor que aquella por predecir erróneamente un atraso, podría ser más conveniente optar por el modelo de Decision Tree, ya que en su matriz de confusión presenta una mayor cantidad de verdaderos positivos (pese a que también presenta más falsos positivos que Random Forest). Es decir, la decisión va a depender de un contexto y objetivo dado. "
   ]
  },
  {
   "cell_type": "markdown",
   "id": "3163966b",
   "metadata": {},
   "source": [
    "#### 5.3. Aspectos a mejorar"
   ]
  },
  {
   "cell_type": "markdown",
   "id": "af7ca1c0",
   "metadata": {},
   "source": [
    "Se podría mejorar el desempeño del modelo desde varios aspectos, entre ellos: \n",
    "- **Datos internos**: Se podrían incorporar datos internos relacionados al vuelo tales como tipo de avión; fecha de último mantenimiento del avión; si corresponde a vuelo directo o con escalas (o en su defecto, cantidad de tramos); capacidad del aeropuerto; número de pasajeros; duración estimada del vuelo.\n",
    "- **Datos externos**: Hay datos externos que también podrían afectar el atraso del vuelo: si es en una fecha festiva; condiciones climáticas; estación del año en país de origen/destino. \n",
    "- **Balance de clases**: Uno de los problemas que se abordó corresponde al desbalance de clases. En este caso se trabajó con el método SMOTE y modelos basados en árboles, sin embargo, se podrían probar otros métodos tales como el remuestreo o aplicar parámetros de penalización. \n",
    "- **Modelo**: En este problema se hizo un entrenamiento y testeo simple de distintos modelos de clasificación, sin embargo, esto se puede complejizar para buscar un modelo que tenga mejor poder predictivo. Por ejemplo, se puede trabajar con subconjuntos de datos de testeo, entrenamiento y validación (en lugar de únicamente testeo y entrenamiento), y aplicar técnicas de búsquedas de hiperparámetros para el modelo (como **GridSearch**). Por otro lado, se podría quitar el escalamiento realizado con el StandarScaler considerando que se está usando un modelo basado en árboles (estos tienden a ser invariantes a la escala)."
   ]
  },
  {
   "cell_type": "code",
   "execution_count": null,
   "id": "9170ecc6",
   "metadata": {},
   "outputs": [],
   "source": []
  }
 ],
 "metadata": {
  "kernelspec": {
   "display_name": "Python 3 (ipykernel)",
   "language": "python",
   "name": "python3"
  },
  "language_info": {
   "codemirror_mode": {
    "name": "ipython",
    "version": 3
   },
   "file_extension": ".py",
   "mimetype": "text/x-python",
   "name": "python",
   "nbconvert_exporter": "python",
   "pygments_lexer": "ipython3",
   "version": "3.9.7"
  }
 },
 "nbformat": 4,
 "nbformat_minor": 5
}
